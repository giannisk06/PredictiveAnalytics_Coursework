{
 "cells": [
  {
   "cell_type": "markdown",
   "metadata": {},
   "source": [
    "<h1 align=\"center\">MSIN0097: Predictive Analytics</h1>\n",
    "<h1 align=\"center\">Individual Coursework</h1>\n",
    "<h1 align=\"center\">Predicting Flight Delays of U.S. carriers</h1>\n",
    "<br><br><br>\n",
    "<h3 align=\"center\">4th March 2022</h3>"
   ]
  },
  {
   "cell_type": "markdown",
   "metadata": {},
   "source": [
    "## Table of Contents\n",
    "\n",
    "* [**Section 1**](#section1): **Problem Framing**\n",
    "* [**Section 2**](#section2): **Get the Data**\n",
    "    * [2.1](#2_1): Setup\n",
    "    * [2.2](#2_2): Load the data\n",
    "    * [2.3](#2_3): Data structure\n",
    "* [**Section 3**](#section3): **Data Exploration**\n",
    "    * [3.1](#3_1): Looking for correlations\n",
    "* [**Section 4**](#section4): **Data Cleaning and Feature Engineering**\n",
    "    * [4.1](#4_1): Variable Description\n",
    "* [**Section 5**](#section5): **Data Visulization**\n",
    "    * [5.1](#5_1): Airline Average Delay\n",
    "    * [5.2](#5_2): Busiest Airports\n",
    "    * [5.3](#5_3): Logistic Regression\n",
    "    * [5.4](#5_4): Airport Average Delay\n",
    "    * [5.5](#5_5): Airline Average Delay on Destination Airport\n",
    "    * [5.6](#5_6): Total Month Flights\n",
    "    * [5.7](#5_7): Average Month Delay\n",
    "* [**Section 6**](#section6): **Prepare the data to better expose the underlying data patterns to Machine Learning algorithms**\n",
    "    * [6.1](#6_1): Handling Categorical Variables\n",
    "    * [6.2](#6_2): Splitting the Dataset\n",
    "    * [6.3](#6_3): Feature Scaling Test Set\n",
    "* [**Section 7**](#section7): **Machine Learning Models**\n",
    "    * [7.1](#7_1): Random Forest Regressor\n",
    "    * [7.2](#7_2): Decision Tree Regressor\n",
    "    * [7.3](#7_3): Gradient Boosting\n",
    "    * [7.4](#7_4): Linear Regression\n",
    "* [**Section 8**](#section8): **Fine-tuning Models and Combining Them into a Better Solution**\n",
    "    * [8.1](#8_1): Fine-tuning of Random Forest\n",
    "    * [8.2](#8_2): Fine-tuning of Linear Regression\n",
    "* [**Section 9**](#section9): **Final Solution, Limitations and Summary Conclusions**\n",
    "    * [9.1](#9_1): Final Solution \n",
    "    * [9.2](#9_2): Limitations\n",
    "    * [9.3](#9_3): Summary Conclusions\n",
    "* [**Section 10**](#section10): **References**"
   ]
  },
  {
   "cell_type": "markdown",
   "metadata": {},
   "source": [
    "# Section 1: <a class=\"anchor\" id=\"section1\"></a> Problem Framing"
   ]
  },
  {
   "cell_type": "markdown",
   "metadata": {},
   "source": [
    "The increasing utilization of airplnes as a way of travelling has changed how people live. Whether it is travel for leisure to get away from the busy lifestyles and relax or visiting one's home country to see their families and friends who they may have not seen in a long time. Air travel is the most popular way of travelling between different continents and between far distances. That of course, comes with its downside. Many flights daily become subjects to delays, because of airplane issues, weather conditions, lack of staffing and much more. Airline companies are in a position to identify pertinent issues which need to be fixed as part of their service and provide excellent customer support and flight delays is one of those issues.\n",
    "\n",
    "In this notebook a model will be created aiming at predicting flight delays based on a number of a features used from a dataset. The purpose is to find out ways, using Machine Learning algorithms and predict future flight delays based on the data available. The analysis will be using cross-validation to identify the most accurate parameters and will build RandomForestRegressor, DecisionTreeRegressor, GradientBoosting, LinearRegression and finally a VotingRegressor which will combine 2 of the original models."
   ]
  },
  {
   "cell_type": "markdown",
   "metadata": {},
   "source": [
    "# Section 2: <a class=\"anchor\" id=\"section2\"></a> Get the Data"
   ]
  },
  {
   "cell_type": "markdown",
   "metadata": {},
   "source": [
    "The dataset used for the below analysis was obtained from: https://www.mavenanalytics.io/data-playground?page=5 and it's a dataset containing 5+ million rows of data for flights delays in the United States in 2015. The total number of columns presented at first is 31 and contains information such as the airport of departure and arrival, the times of flights, their duration, the day and month of flight and airline names."
   ]
  },
  {
   "cell_type": "markdown",
   "metadata": {},
   "source": [
    "## Section 2.1: <a class=\"anchor\" id=\"2_1\"></a> Setup"
   ]
  },
  {
   "cell_type": "markdown",
   "metadata": {},
   "source": [
    "We start by importing all the necessary packages to analyze and work with the datasets."
   ]
  },
  {
   "cell_type": "code",
   "execution_count": 1,
   "metadata": {},
   "outputs": [
    {
     "data": {
      "application/javascript": [
       "IPython.notebook.set_autosave_interval(120000)"
      ]
     },
     "metadata": {},
     "output_type": "display_data"
    },
    {
     "name": "stdout",
     "output_type": "stream",
     "text": [
      "Autosaving every 120 seconds\n"
     ]
    }
   ],
   "source": [
    "import time\n",
    "import random \n",
    "import sklearn\n",
    "import numpy as np\n",
    "import pandas as pd\n",
    "import seaborn as sns\n",
    "from sklearn import svm\n",
    "from sklearn import tree\n",
    "from sklearn import metrics\n",
    "import matplotlib.pyplot as plt\n",
    "from xgboost.sklearn import XGBRegressor\n",
    "from sklearn.metrics import accuracy_score\n",
    "from sklearn.naive_bayes import GaussianNB\n",
    "from sklearn.tree import DecisionTreeRegressor\n",
    "from sklearn.metrics import mean_squared_error\n",
    "from sklearn.model_selection import GridSearchCV\n",
    "from sklearn.model_selection import RandomizedSearchCV\n",
    "from sklearn.ensemble import RandomForestRegressor\n",
    "from sklearn.model_selection import cross_val_score\n",
    "from sklearn.model_selection import train_test_split\n",
    "from matplotlib.colors import LinearSegmentedColormap\n",
    "from sklearn.model_selection import cross_val_predict\n",
    "from sklearn.model_selection import RandomizedSearchCV\n",
    "from sklearn.ensemble import GradientBoostingRegressor\n",
    "from sklearn.preprocessing import LabelEncoder, OneHotEncoder, StandardScaler\n",
    "from sklearn.linear_model import LogisticRegression, SGDClassifier, LinearRegression\n",
    "\n",
    "import IPython\n",
    "assert IPython.version_info[0] >= 3, \"Your version of IPython is too old, please update it.\"\n",
    "%autosave 120"
   ]
  },
  {
   "cell_type": "code",
   "execution_count": 2,
   "metadata": {},
   "outputs": [],
   "source": [
    "import warnings\n",
    "warnings.simplefilter('ignore')"
   ]
  },
  {
   "cell_type": "markdown",
   "metadata": {},
   "source": [
    "## Section 2.2: <a class=\"anchor\" id=\"2_2\"></a> Load the Data"
   ]
  },
  {
   "cell_type": "markdown",
   "metadata": {},
   "source": [
    "The comments are code to select subset of data since the dataset is to o large, at 5+ million rows of observations."
   ]
  },
  {
   "cell_type": "code",
   "execution_count": 3,
   "metadata": {
    "scrolled": true
   },
   "outputs": [],
   "source": [
    "random.seed(10)\n",
    "#filename = \"flights.csv\"\n",
    "#n = sum(1 for line in open(filename)) - 1 #number of records in file\n",
    "#s = 50000 #desired sample size\n",
    "#skip = sorted(random.sample(range(1,n+1),n-s)) #the 0-indexed header will not be included in the skip list\n",
    "#flights_df = pd.read_csv(filename, skiprows=skip)\n",
    "#flights_df.to_csv('flights_short.csv', index = False)\n",
    "\n",
    "# Importing main dataset\n",
    "flights_df = pd.read_csv(\"flights_short.csv\")\n",
    "# Importing supporting datasets\n",
    "airports_df = pd.read_csv(\"airports.csv\")\n",
    "airlines_df = pd.read_csv(\"airlines.csv\")\n"
   ]
  },
  {
   "cell_type": "markdown",
   "metadata": {},
   "source": [
    "Because the dataset is too large at 5+ million rows, only a subset of the data will be used for the analysis in order to lessen the computational time. A random sample of the rows is taken in the code chunck above to avoid selection bias. Thus, it will be easier to work with the dataset provided with 50,000 rows."
   ]
  },
  {
   "cell_type": "markdown",
   "metadata": {},
   "source": [
    "## Section 2.3: <a class=\"anchor\" id=\"2_3\"></a> Quick Look at Data Structure"
   ]
  },
  {
   "cell_type": "code",
   "execution_count": 4,
   "metadata": {
    "scrolled": false
   },
   "outputs": [
    {
     "data": {
      "text/html": [
       "<div>\n",
       "<style scoped>\n",
       "    .dataframe tbody tr th:only-of-type {\n",
       "        vertical-align: middle;\n",
       "    }\n",
       "\n",
       "    .dataframe tbody tr th {\n",
       "        vertical-align: top;\n",
       "    }\n",
       "\n",
       "    .dataframe thead th {\n",
       "        text-align: right;\n",
       "    }\n",
       "</style>\n",
       "<table border=\"1\" class=\"dataframe\">\n",
       "  <thead>\n",
       "    <tr style=\"text-align: right;\">\n",
       "      <th></th>\n",
       "      <th>YEAR</th>\n",
       "      <th>MONTH</th>\n",
       "      <th>DAY</th>\n",
       "      <th>DAY_OF_WEEK</th>\n",
       "      <th>AIRLINE</th>\n",
       "      <th>FLIGHT_NUMBER</th>\n",
       "      <th>TAIL_NUMBER</th>\n",
       "      <th>ORIGIN_AIRPORT</th>\n",
       "      <th>DESTINATION_AIRPORT</th>\n",
       "      <th>SCHEDULED_DEPARTURE</th>\n",
       "      <th>...</th>\n",
       "      <th>ARRIVAL_TIME</th>\n",
       "      <th>ARRIVAL_DELAY</th>\n",
       "      <th>DIVERTED</th>\n",
       "      <th>CANCELLED</th>\n",
       "      <th>CANCELLATION_REASON</th>\n",
       "      <th>AIR_SYSTEM_DELAY</th>\n",
       "      <th>SECURITY_DELAY</th>\n",
       "      <th>AIRLINE_DELAY</th>\n",
       "      <th>LATE_AIRCRAFT_DELAY</th>\n",
       "      <th>WEATHER_DELAY</th>\n",
       "    </tr>\n",
       "  </thead>\n",
       "  <tbody>\n",
       "    <tr>\n",
       "      <th>0</th>\n",
       "      <td>2015</td>\n",
       "      <td>1</td>\n",
       "      <td>1</td>\n",
       "      <td>4</td>\n",
       "      <td>UA</td>\n",
       "      <td>1167</td>\n",
       "      <td>N66837</td>\n",
       "      <td>ORD</td>\n",
       "      <td>DEN</td>\n",
       "      <td>533</td>\n",
       "      <td>...</td>\n",
       "      <td>723.0</td>\n",
       "      <td>3.0</td>\n",
       "      <td>0</td>\n",
       "      <td>0</td>\n",
       "      <td>NaN</td>\n",
       "      <td>NaN</td>\n",
       "      <td>NaN</td>\n",
       "      <td>NaN</td>\n",
       "      <td>NaN</td>\n",
       "      <td>NaN</td>\n",
       "    </tr>\n",
       "    <tr>\n",
       "      <th>1</th>\n",
       "      <td>2015</td>\n",
       "      <td>1</td>\n",
       "      <td>1</td>\n",
       "      <td>4</td>\n",
       "      <td>DL</td>\n",
       "      <td>2453</td>\n",
       "      <td>N966DL</td>\n",
       "      <td>GSP</td>\n",
       "      <td>ATL</td>\n",
       "      <td>550</td>\n",
       "      <td>...</td>\n",
       "      <td>649.0</td>\n",
       "      <td>0.0</td>\n",
       "      <td>0</td>\n",
       "      <td>0</td>\n",
       "      <td>NaN</td>\n",
       "      <td>NaN</td>\n",
       "      <td>NaN</td>\n",
       "      <td>NaN</td>\n",
       "      <td>NaN</td>\n",
       "      <td>NaN</td>\n",
       "    </tr>\n",
       "    <tr>\n",
       "      <th>2</th>\n",
       "      <td>2015</td>\n",
       "      <td>1</td>\n",
       "      <td>1</td>\n",
       "      <td>4</td>\n",
       "      <td>DL</td>\n",
       "      <td>1574</td>\n",
       "      <td>N532US</td>\n",
       "      <td>MCO</td>\n",
       "      <td>MSP</td>\n",
       "      <td>600</td>\n",
       "      <td>...</td>\n",
       "      <td>822.0</td>\n",
       "      <td>-7.0</td>\n",
       "      <td>0</td>\n",
       "      <td>0</td>\n",
       "      <td>NaN</td>\n",
       "      <td>NaN</td>\n",
       "      <td>NaN</td>\n",
       "      <td>NaN</td>\n",
       "      <td>NaN</td>\n",
       "      <td>NaN</td>\n",
       "    </tr>\n",
       "    <tr>\n",
       "      <th>3</th>\n",
       "      <td>2015</td>\n",
       "      <td>1</td>\n",
       "      <td>1</td>\n",
       "      <td>4</td>\n",
       "      <td>EV</td>\n",
       "      <td>4213</td>\n",
       "      <td>N17560</td>\n",
       "      <td>MHT</td>\n",
       "      <td>ORD</td>\n",
       "      <td>600</td>\n",
       "      <td>...</td>\n",
       "      <td>749.0</td>\n",
       "      <td>-4.0</td>\n",
       "      <td>0</td>\n",
       "      <td>0</td>\n",
       "      <td>NaN</td>\n",
       "      <td>NaN</td>\n",
       "      <td>NaN</td>\n",
       "      <td>NaN</td>\n",
       "      <td>NaN</td>\n",
       "      <td>NaN</td>\n",
       "    </tr>\n",
       "    <tr>\n",
       "      <th>4</th>\n",
       "      <td>2015</td>\n",
       "      <td>1</td>\n",
       "      <td>1</td>\n",
       "      <td>4</td>\n",
       "      <td>MQ</td>\n",
       "      <td>3350</td>\n",
       "      <td>N830MQ</td>\n",
       "      <td>RDU</td>\n",
       "      <td>JFK</td>\n",
       "      <td>600</td>\n",
       "      <td>...</td>\n",
       "      <td>738.0</td>\n",
       "      <td>3.0</td>\n",
       "      <td>0</td>\n",
       "      <td>0</td>\n",
       "      <td>NaN</td>\n",
       "      <td>NaN</td>\n",
       "      <td>NaN</td>\n",
       "      <td>NaN</td>\n",
       "      <td>NaN</td>\n",
       "      <td>NaN</td>\n",
       "    </tr>\n",
       "  </tbody>\n",
       "</table>\n",
       "<p>5 rows × 31 columns</p>\n",
       "</div>"
      ],
      "text/plain": [
       "   YEAR  MONTH  DAY  DAY_OF_WEEK AIRLINE  FLIGHT_NUMBER TAIL_NUMBER  \\\n",
       "0  2015      1    1            4      UA           1167      N66837   \n",
       "1  2015      1    1            4      DL           2453      N966DL   \n",
       "2  2015      1    1            4      DL           1574      N532US   \n",
       "3  2015      1    1            4      EV           4213      N17560   \n",
       "4  2015      1    1            4      MQ           3350      N830MQ   \n",
       "\n",
       "  ORIGIN_AIRPORT DESTINATION_AIRPORT  SCHEDULED_DEPARTURE  ...  ARRIVAL_TIME  \\\n",
       "0            ORD                 DEN                  533  ...         723.0   \n",
       "1            GSP                 ATL                  550  ...         649.0   \n",
       "2            MCO                 MSP                  600  ...         822.0   \n",
       "3            MHT                 ORD                  600  ...         749.0   \n",
       "4            RDU                 JFK                  600  ...         738.0   \n",
       "\n",
       "   ARRIVAL_DELAY  DIVERTED  CANCELLED  CANCELLATION_REASON  AIR_SYSTEM_DELAY  \\\n",
       "0            3.0         0          0                  NaN               NaN   \n",
       "1            0.0         0          0                  NaN               NaN   \n",
       "2           -7.0         0          0                  NaN               NaN   \n",
       "3           -4.0         0          0                  NaN               NaN   \n",
       "4            3.0         0          0                  NaN               NaN   \n",
       "\n",
       "   SECURITY_DELAY  AIRLINE_DELAY  LATE_AIRCRAFT_DELAY  WEATHER_DELAY  \n",
       "0             NaN            NaN                  NaN            NaN  \n",
       "1             NaN            NaN                  NaN            NaN  \n",
       "2             NaN            NaN                  NaN            NaN  \n",
       "3             NaN            NaN                  NaN            NaN  \n",
       "4             NaN            NaN                  NaN            NaN  \n",
       "\n",
       "[5 rows x 31 columns]"
      ]
     },
     "execution_count": 4,
     "metadata": {},
     "output_type": "execute_result"
    }
   ],
   "source": [
    "flights_df.head() #first 5 rows of data"
   ]
  },
  {
   "cell_type": "markdown",
   "metadata": {},
   "source": [
    "Taking a first look at the dataset, and we can see that the final 6 columns only have NaN values in the first 5 rows which will be investigated later to see the amount of total null values in those columns."
   ]
  },
  {
   "cell_type": "code",
   "execution_count": 5,
   "metadata": {
    "scrolled": true
   },
   "outputs": [
    {
     "data": {
      "text/plain": [
       "WN    10971\n",
       "DL     7667\n",
       "AA     6277\n",
       "OO     5015\n",
       "EV     4853\n",
       "UA     4371\n",
       "MQ     2500\n",
       "B6     2270\n",
       "US     1674\n",
       "AS     1485\n",
       "NK     1010\n",
       "F9      736\n",
       "HA      658\n",
       "VX      513\n",
       "Name: AIRLINE, dtype: int64"
      ]
     },
     "execution_count": 5,
     "metadata": {},
     "output_type": "execute_result"
    }
   ],
   "source": [
    "flights_df[\"AIRLINE\"].value_counts()"
   ]
  },
  {
   "cell_type": "markdown",
   "metadata": {},
   "source": [
    "# Section 3: <a class=\"anchor\" id=\"section3\"></a> Data Exploration"
   ]
  },
  {
   "cell_type": "code",
   "execution_count": 6,
   "metadata": {
    "scrolled": true
   },
   "outputs": [
    {
     "data": {
      "text/html": [
       "<div>\n",
       "<style scoped>\n",
       "    .dataframe tbody tr th:only-of-type {\n",
       "        vertical-align: middle;\n",
       "    }\n",
       "\n",
       "    .dataframe tbody tr th {\n",
       "        vertical-align: top;\n",
       "    }\n",
       "\n",
       "    .dataframe thead th {\n",
       "        text-align: right;\n",
       "    }\n",
       "</style>\n",
       "<table border=\"1\" class=\"dataframe\">\n",
       "  <thead>\n",
       "    <tr style=\"text-align: right;\">\n",
       "      <th></th>\n",
       "      <th>YEAR</th>\n",
       "      <th>MONTH</th>\n",
       "      <th>DAY</th>\n",
       "      <th>DAY_OF_WEEK</th>\n",
       "      <th>FLIGHT_NUMBER</th>\n",
       "      <th>SCHEDULED_DEPARTURE</th>\n",
       "      <th>DEPARTURE_TIME</th>\n",
       "      <th>DEPARTURE_DELAY</th>\n",
       "      <th>TAXI_OUT</th>\n",
       "      <th>WHEELS_OFF</th>\n",
       "      <th>...</th>\n",
       "      <th>SCHEDULED_ARRIVAL</th>\n",
       "      <th>ARRIVAL_TIME</th>\n",
       "      <th>ARRIVAL_DELAY</th>\n",
       "      <th>DIVERTED</th>\n",
       "      <th>CANCELLED</th>\n",
       "      <th>AIR_SYSTEM_DELAY</th>\n",
       "      <th>SECURITY_DELAY</th>\n",
       "      <th>AIRLINE_DELAY</th>\n",
       "      <th>LATE_AIRCRAFT_DELAY</th>\n",
       "      <th>WEATHER_DELAY</th>\n",
       "    </tr>\n",
       "  </thead>\n",
       "  <tbody>\n",
       "    <tr>\n",
       "      <th>count</th>\n",
       "      <td>50000.0</td>\n",
       "      <td>50000.000000</td>\n",
       "      <td>50000.000000</td>\n",
       "      <td>50000.000000</td>\n",
       "      <td>50000.000000</td>\n",
       "      <td>50000.000000</td>\n",
       "      <td>49277.000000</td>\n",
       "      <td>49277.000000</td>\n",
       "      <td>49241.000000</td>\n",
       "      <td>49241.000000</td>\n",
       "      <td>...</td>\n",
       "      <td>50000.000000</td>\n",
       "      <td>49210.000000</td>\n",
       "      <td>49097.000000</td>\n",
       "      <td>50000.000000</td>\n",
       "      <td>50000.000000</td>\n",
       "      <td>9205.000000</td>\n",
       "      <td>9205.000000</td>\n",
       "      <td>9205.000000</td>\n",
       "      <td>9205.000000</td>\n",
       "      <td>9205.000000</td>\n",
       "    </tr>\n",
       "    <tr>\n",
       "      <th>mean</th>\n",
       "      <td>2015.0</td>\n",
       "      <td>6.539540</td>\n",
       "      <td>15.756180</td>\n",
       "      <td>3.929400</td>\n",
       "      <td>2169.521780</td>\n",
       "      <td>1330.630020</td>\n",
       "      <td>1336.994095</td>\n",
       "      <td>9.401201</td>\n",
       "      <td>16.045673</td>\n",
       "      <td>1359.352105</td>\n",
       "      <td>...</td>\n",
       "      <td>1496.011100</td>\n",
       "      <td>1478.402093</td>\n",
       "      <td>4.401287</td>\n",
       "      <td>0.002620</td>\n",
       "      <td>0.015440</td>\n",
       "      <td>13.506247</td>\n",
       "      <td>0.055296</td>\n",
       "      <td>19.379902</td>\n",
       "      <td>23.278979</td>\n",
       "      <td>2.578381</td>\n",
       "    </tr>\n",
       "    <tr>\n",
       "      <th>std</th>\n",
       "      <td>0.0</td>\n",
       "      <td>3.417893</td>\n",
       "      <td>8.732691</td>\n",
       "      <td>1.989898</td>\n",
       "      <td>1755.029783</td>\n",
       "      <td>482.476155</td>\n",
       "      <td>495.193903</td>\n",
       "      <td>37.259581</td>\n",
       "      <td>8.826761</td>\n",
       "      <td>496.523567</td>\n",
       "      <td>...</td>\n",
       "      <td>504.406233</td>\n",
       "      <td>524.115041</td>\n",
       "      <td>39.594510</td>\n",
       "      <td>0.051119</td>\n",
       "      <td>0.123296</td>\n",
       "      <td>27.518010</td>\n",
       "      <td>1.408396</td>\n",
       "      <td>50.712820</td>\n",
       "      <td>43.650494</td>\n",
       "      <td>17.249727</td>\n",
       "    </tr>\n",
       "    <tr>\n",
       "      <th>min</th>\n",
       "      <td>2015.0</td>\n",
       "      <td>1.000000</td>\n",
       "      <td>1.000000</td>\n",
       "      <td>1.000000</td>\n",
       "      <td>1.000000</td>\n",
       "      <td>5.000000</td>\n",
       "      <td>1.000000</td>\n",
       "      <td>-40.000000</td>\n",
       "      <td>1.000000</td>\n",
       "      <td>1.000000</td>\n",
       "      <td>...</td>\n",
       "      <td>1.000000</td>\n",
       "      <td>1.000000</td>\n",
       "      <td>-59.000000</td>\n",
       "      <td>0.000000</td>\n",
       "      <td>0.000000</td>\n",
       "      <td>0.000000</td>\n",
       "      <td>0.000000</td>\n",
       "      <td>0.000000</td>\n",
       "      <td>0.000000</td>\n",
       "      <td>0.000000</td>\n",
       "    </tr>\n",
       "    <tr>\n",
       "      <th>25%</th>\n",
       "      <td>2015.0</td>\n",
       "      <td>4.000000</td>\n",
       "      <td>8.000000</td>\n",
       "      <td>2.000000</td>\n",
       "      <td>728.000000</td>\n",
       "      <td>920.000000</td>\n",
       "      <td>924.000000</td>\n",
       "      <td>-5.000000</td>\n",
       "      <td>11.000000</td>\n",
       "      <td>938.000000</td>\n",
       "      <td>...</td>\n",
       "      <td>1111.000000</td>\n",
       "      <td>1100.000000</td>\n",
       "      <td>-13.000000</td>\n",
       "      <td>0.000000</td>\n",
       "      <td>0.000000</td>\n",
       "      <td>0.000000</td>\n",
       "      <td>0.000000</td>\n",
       "      <td>0.000000</td>\n",
       "      <td>0.000000</td>\n",
       "      <td>0.000000</td>\n",
       "    </tr>\n",
       "    <tr>\n",
       "      <th>50%</th>\n",
       "      <td>2015.0</td>\n",
       "      <td>7.000000</td>\n",
       "      <td>16.000000</td>\n",
       "      <td>4.000000</td>\n",
       "      <td>1688.000000</td>\n",
       "      <td>1325.000000</td>\n",
       "      <td>1332.000000</td>\n",
       "      <td>-2.000000</td>\n",
       "      <td>14.000000</td>\n",
       "      <td>1345.000000</td>\n",
       "      <td>...</td>\n",
       "      <td>1523.000000</td>\n",
       "      <td>1516.000000</td>\n",
       "      <td>-5.000000</td>\n",
       "      <td>0.000000</td>\n",
       "      <td>0.000000</td>\n",
       "      <td>2.000000</td>\n",
       "      <td>0.000000</td>\n",
       "      <td>2.000000</td>\n",
       "      <td>3.000000</td>\n",
       "      <td>0.000000</td>\n",
       "    </tr>\n",
       "    <tr>\n",
       "      <th>75%</th>\n",
       "      <td>2015.0</td>\n",
       "      <td>9.000000</td>\n",
       "      <td>23.000000</td>\n",
       "      <td>6.000000</td>\n",
       "      <td>3214.250000</td>\n",
       "      <td>1730.000000</td>\n",
       "      <td>1740.000000</td>\n",
       "      <td>7.000000</td>\n",
       "      <td>19.000000</td>\n",
       "      <td>1754.000000</td>\n",
       "      <td>...</td>\n",
       "      <td>1916.000000</td>\n",
       "      <td>1915.000000</td>\n",
       "      <td>8.000000</td>\n",
       "      <td>0.000000</td>\n",
       "      <td>0.000000</td>\n",
       "      <td>18.000000</td>\n",
       "      <td>0.000000</td>\n",
       "      <td>19.000000</td>\n",
       "      <td>29.000000</td>\n",
       "      <td>0.000000</td>\n",
       "    </tr>\n",
       "    <tr>\n",
       "      <th>max</th>\n",
       "      <td>2015.0</td>\n",
       "      <td>12.000000</td>\n",
       "      <td>31.000000</td>\n",
       "      <td>7.000000</td>\n",
       "      <td>7438.000000</td>\n",
       "      <td>2359.000000</td>\n",
       "      <td>2400.000000</td>\n",
       "      <td>1551.000000</td>\n",
       "      <td>151.000000</td>\n",
       "      <td>2400.000000</td>\n",
       "      <td>...</td>\n",
       "      <td>2359.000000</td>\n",
       "      <td>2400.000000</td>\n",
       "      <td>1546.000000</td>\n",
       "      <td>1.000000</td>\n",
       "      <td>1.000000</td>\n",
       "      <td>415.000000</td>\n",
       "      <td>79.000000</td>\n",
       "      <td>1546.000000</td>\n",
       "      <td>1020.000000</td>\n",
       "      <td>472.000000</td>\n",
       "    </tr>\n",
       "  </tbody>\n",
       "</table>\n",
       "<p>8 rows × 26 columns</p>\n",
       "</div>"
      ],
      "text/plain": [
       "          YEAR         MONTH           DAY   DAY_OF_WEEK  FLIGHT_NUMBER  \\\n",
       "count  50000.0  50000.000000  50000.000000  50000.000000   50000.000000   \n",
       "mean    2015.0      6.539540     15.756180      3.929400    2169.521780   \n",
       "std        0.0      3.417893      8.732691      1.989898    1755.029783   \n",
       "min     2015.0      1.000000      1.000000      1.000000       1.000000   \n",
       "25%     2015.0      4.000000      8.000000      2.000000     728.000000   \n",
       "50%     2015.0      7.000000     16.000000      4.000000    1688.000000   \n",
       "75%     2015.0      9.000000     23.000000      6.000000    3214.250000   \n",
       "max     2015.0     12.000000     31.000000      7.000000    7438.000000   \n",
       "\n",
       "       SCHEDULED_DEPARTURE  DEPARTURE_TIME  DEPARTURE_DELAY      TAXI_OUT  \\\n",
       "count         50000.000000    49277.000000     49277.000000  49241.000000   \n",
       "mean           1330.630020     1336.994095         9.401201     16.045673   \n",
       "std             482.476155      495.193903        37.259581      8.826761   \n",
       "min               5.000000        1.000000       -40.000000      1.000000   \n",
       "25%             920.000000      924.000000        -5.000000     11.000000   \n",
       "50%            1325.000000     1332.000000        -2.000000     14.000000   \n",
       "75%            1730.000000     1740.000000         7.000000     19.000000   \n",
       "max            2359.000000     2400.000000      1551.000000    151.000000   \n",
       "\n",
       "         WHEELS_OFF  ...  SCHEDULED_ARRIVAL  ARRIVAL_TIME  ARRIVAL_DELAY  \\\n",
       "count  49241.000000  ...       50000.000000  49210.000000   49097.000000   \n",
       "mean    1359.352105  ...        1496.011100   1478.402093       4.401287   \n",
       "std      496.523567  ...         504.406233    524.115041      39.594510   \n",
       "min        1.000000  ...           1.000000      1.000000     -59.000000   \n",
       "25%      938.000000  ...        1111.000000   1100.000000     -13.000000   \n",
       "50%     1345.000000  ...        1523.000000   1516.000000      -5.000000   \n",
       "75%     1754.000000  ...        1916.000000   1915.000000       8.000000   \n",
       "max     2400.000000  ...        2359.000000   2400.000000    1546.000000   \n",
       "\n",
       "           DIVERTED     CANCELLED  AIR_SYSTEM_DELAY  SECURITY_DELAY  \\\n",
       "count  50000.000000  50000.000000       9205.000000     9205.000000   \n",
       "mean       0.002620      0.015440         13.506247        0.055296   \n",
       "std        0.051119      0.123296         27.518010        1.408396   \n",
       "min        0.000000      0.000000          0.000000        0.000000   \n",
       "25%        0.000000      0.000000          0.000000        0.000000   \n",
       "50%        0.000000      0.000000          2.000000        0.000000   \n",
       "75%        0.000000      0.000000         18.000000        0.000000   \n",
       "max        1.000000      1.000000        415.000000       79.000000   \n",
       "\n",
       "       AIRLINE_DELAY  LATE_AIRCRAFT_DELAY  WEATHER_DELAY  \n",
       "count    9205.000000          9205.000000    9205.000000  \n",
       "mean       19.379902            23.278979       2.578381  \n",
       "std        50.712820            43.650494      17.249727  \n",
       "min         0.000000             0.000000       0.000000  \n",
       "25%         0.000000             0.000000       0.000000  \n",
       "50%         2.000000             3.000000       0.000000  \n",
       "75%        19.000000            29.000000       0.000000  \n",
       "max      1546.000000          1020.000000     472.000000  \n",
       "\n",
       "[8 rows x 26 columns]"
      ]
     },
     "execution_count": 6,
     "metadata": {},
     "output_type": "execute_result"
    }
   ],
   "source": [
    "flights_df.describe()"
   ]
  },
  {
   "cell_type": "markdown",
   "metadata": {},
   "source": [
    "Using the .describe() function we can see that the average delay in departure is 9.4 minutes and 4.4 minutes for arrival. "
   ]
  },
  {
   "cell_type": "code",
   "execution_count": 86,
   "metadata": {},
   "outputs": [
    {
     "data": {
      "text/plain": [
       "<function matplotlib.pyplot.show(close=None, block=None)>"
      ]
     },
     "execution_count": 86,
     "metadata": {},
     "output_type": "execute_result"
    },
    {
     "data": {
      "image/png": "[encoded data removed]",
      "text/plain": [
       "<Figure size 1440x1080 with 12 Axes>"
      ]
     },
     "metadata": {},
     "output_type": "display_data"
    }
   ],
   "source": [
    "flights_df.hist(bins = 30, figsize = (20, 15), log = True)\n",
    "plt.show"
   ]
  },
  {
   "cell_type": "code",
   "execution_count": 8,
   "metadata": {
    "scrolled": false
   },
   "outputs": [
    {
     "name": "stdout",
     "output_type": "stream",
     "text": [
      "<class 'pandas.core.frame.DataFrame'>\n",
      "RangeIndex: 322 entries, 0 to 321\n",
      "Data columns (total 7 columns):\n",
      " #   Column     Non-Null Count  Dtype  \n",
      "---  ------     --------------  -----  \n",
      " 0   IATA_CODE  322 non-null    object \n",
      " 1   AIRPORT    322 non-null    object \n",
      " 2   CITY       322 non-null    object \n",
      " 3   STATE      322 non-null    object \n",
      " 4   COUNTRY    322 non-null    object \n",
      " 5   LATITUDE   319 non-null    float64\n",
      " 6   LONGITUDE  319 non-null    float64\n",
      "dtypes: float64(2), object(5)\n",
      "memory usage: 17.7+ KB\n"
     ]
    }
   ],
   "source": [
    "#Supporting Dataset\n",
    "airports_df.info()"
   ]
  },
  {
   "cell_type": "code",
   "execution_count": 9,
   "metadata": {
    "scrolled": false
   },
   "outputs": [
    {
     "data": {
      "text/html": [
       "<div>\n",
       "<style scoped>\n",
       "    .dataframe tbody tr th:only-of-type {\n",
       "        vertical-align: middle;\n",
       "    }\n",
       "\n",
       "    .dataframe tbody tr th {\n",
       "        vertical-align: top;\n",
       "    }\n",
       "\n",
       "    .dataframe thead th {\n",
       "        text-align: right;\n",
       "    }\n",
       "</style>\n",
       "<table border=\"1\" class=\"dataframe\">\n",
       "  <thead>\n",
       "    <tr style=\"text-align: right;\">\n",
       "      <th></th>\n",
       "      <th>IATA_CODE</th>\n",
       "      <th>AIRLINE</th>\n",
       "    </tr>\n",
       "  </thead>\n",
       "  <tbody>\n",
       "    <tr>\n",
       "      <th>0</th>\n",
       "      <td>UA</td>\n",
       "      <td>United Air Lines Inc.</td>\n",
       "    </tr>\n",
       "    <tr>\n",
       "      <th>1</th>\n",
       "      <td>AA</td>\n",
       "      <td>American Airlines Inc.</td>\n",
       "    </tr>\n",
       "    <tr>\n",
       "      <th>2</th>\n",
       "      <td>US</td>\n",
       "      <td>US Airways Inc.</td>\n",
       "    </tr>\n",
       "    <tr>\n",
       "      <th>3</th>\n",
       "      <td>F9</td>\n",
       "      <td>Frontier Airlines Inc.</td>\n",
       "    </tr>\n",
       "    <tr>\n",
       "      <th>4</th>\n",
       "      <td>B6</td>\n",
       "      <td>JetBlue Airways</td>\n",
       "    </tr>\n",
       "    <tr>\n",
       "      <th>5</th>\n",
       "      <td>OO</td>\n",
       "      <td>Skywest Airlines Inc.</td>\n",
       "    </tr>\n",
       "    <tr>\n",
       "      <th>6</th>\n",
       "      <td>AS</td>\n",
       "      <td>Alaska Airlines Inc.</td>\n",
       "    </tr>\n",
       "    <tr>\n",
       "      <th>7</th>\n",
       "      <td>NK</td>\n",
       "      <td>Spirit Air Lines</td>\n",
       "    </tr>\n",
       "    <tr>\n",
       "      <th>8</th>\n",
       "      <td>WN</td>\n",
       "      <td>Southwest Airlines Co.</td>\n",
       "    </tr>\n",
       "    <tr>\n",
       "      <th>9</th>\n",
       "      <td>DL</td>\n",
       "      <td>Delta Air Lines Inc.</td>\n",
       "    </tr>\n",
       "    <tr>\n",
       "      <th>10</th>\n",
       "      <td>EV</td>\n",
       "      <td>Atlantic Southeast Airlines</td>\n",
       "    </tr>\n",
       "    <tr>\n",
       "      <th>11</th>\n",
       "      <td>HA</td>\n",
       "      <td>Hawaiian Airlines Inc.</td>\n",
       "    </tr>\n",
       "    <tr>\n",
       "      <th>12</th>\n",
       "      <td>MQ</td>\n",
       "      <td>American Eagle Airlines Inc.</td>\n",
       "    </tr>\n",
       "    <tr>\n",
       "      <th>13</th>\n",
       "      <td>VX</td>\n",
       "      <td>Virgin America</td>\n",
       "    </tr>\n",
       "  </tbody>\n",
       "</table>\n",
       "</div>"
      ],
      "text/plain": [
       "   IATA_CODE                       AIRLINE\n",
       "0         UA         United Air Lines Inc.\n",
       "1         AA        American Airlines Inc.\n",
       "2         US               US Airways Inc.\n",
       "3         F9        Frontier Airlines Inc.\n",
       "4         B6               JetBlue Airways\n",
       "5         OO         Skywest Airlines Inc.\n",
       "6         AS          Alaska Airlines Inc.\n",
       "7         NK              Spirit Air Lines\n",
       "8         WN        Southwest Airlines Co.\n",
       "9         DL          Delta Air Lines Inc.\n",
       "10        EV   Atlantic Southeast Airlines\n",
       "11        HA        Hawaiian Airlines Inc.\n",
       "12        MQ  American Eagle Airlines Inc.\n",
       "13        VX                Virgin America"
      ]
     },
     "execution_count": 9,
     "metadata": {},
     "output_type": "execute_result"
    }
   ],
   "source": [
    "#Supporting Dataset\n",
    "airlines_df"
   ]
  },
  {
   "cell_type": "code",
   "execution_count": 10,
   "metadata": {
    "scrolled": false
   },
   "outputs": [
    {
     "name": "stdout",
     "output_type": "stream",
     "text": [
      "<class 'pandas.core.frame.DataFrame'>\n",
      "RangeIndex: 50000 entries, 0 to 49999\n",
      "Data columns (total 31 columns):\n",
      " #   Column               Non-Null Count  Dtype  \n",
      "---  ------               --------------  -----  \n",
      " 0   YEAR                 50000 non-null  int64  \n",
      " 1   MONTH                50000 non-null  int64  \n",
      " 2   DAY                  50000 non-null  int64  \n",
      " 3   DAY_OF_WEEK          50000 non-null  int64  \n",
      " 4   AIRLINE              50000 non-null  object \n",
      " 5   FLIGHT_NUMBER        50000 non-null  int64  \n",
      " 6   TAIL_NUMBER          49869 non-null  object \n",
      " 7   ORIGIN_AIRPORT       50000 non-null  object \n",
      " 8   DESTINATION_AIRPORT  50000 non-null  object \n",
      " 9   SCHEDULED_DEPARTURE  50000 non-null  int64  \n",
      " 10  DEPARTURE_TIME       49277 non-null  float64\n",
      " 11  DEPARTURE_DELAY      49277 non-null  float64\n",
      " 12  TAXI_OUT             49241 non-null  float64\n",
      " 13  WHEELS_OFF           49241 non-null  float64\n",
      " 14  SCHEDULED_TIME       50000 non-null  int64  \n",
      " 15  ELAPSED_TIME         49097 non-null  float64\n",
      " 16  AIR_TIME             49097 non-null  float64\n",
      " 17  DISTANCE             50000 non-null  int64  \n",
      " 18  WHEELS_ON            49210 non-null  float64\n",
      " 19  TAXI_IN              49210 non-null  float64\n",
      " 20  SCHEDULED_ARRIVAL    50000 non-null  int64  \n",
      " 21  ARRIVAL_TIME         49210 non-null  float64\n",
      " 22  ARRIVAL_DELAY        49097 non-null  float64\n",
      " 23  DIVERTED             50000 non-null  int64  \n",
      " 24  CANCELLED            50000 non-null  int64  \n",
      " 25  CANCELLATION_REASON  772 non-null    object \n",
      " 26  AIR_SYSTEM_DELAY     9205 non-null   float64\n",
      " 27  SECURITY_DELAY       9205 non-null   float64\n",
      " 28  AIRLINE_DELAY        9205 non-null   float64\n",
      " 29  LATE_AIRCRAFT_DELAY  9205 non-null   float64\n",
      " 30  WEATHER_DELAY        9205 non-null   float64\n",
      "dtypes: float64(15), int64(11), object(5)\n",
      "memory usage: 11.8+ MB\n"
     ]
    }
   ],
   "source": [
    "# Getting the info of our main dataset\n",
    "flights_df.info()"
   ]
  },
  {
   "cell_type": "markdown",
   "metadata": {},
   "source": [
    "## Section 3.1: <a class=\"anchor\" id=\"3_1\"></a> Looking for Correlations"
   ]
  },
  {
   "cell_type": "code",
   "execution_count": 11,
   "metadata": {},
   "outputs": [],
   "source": [
    "corr_matrix = flights_df.corr()"
   ]
  },
  {
   "cell_type": "code",
   "execution_count": 12,
   "metadata": {
    "scrolled": false
   },
   "outputs": [
    {
     "data": {
      "text/plain": [
       "ARRIVAL_DELAY          1.000000\n",
       "DEPARTURE_DELAY        0.944652\n",
       "AIRLINE_DELAY          0.643797\n",
       "LATE_AIRCRAFT_DELAY    0.511330\n",
       "AIR_SYSTEM_DELAY       0.234293\n",
       "TAXI_OUT               0.227367\n",
       "WEATHER_DELAY          0.204111\n",
       "DEPARTURE_TIME         0.163604\n",
       "WHEELS_OFF             0.162097\n",
       "TAXI_IN                0.124179\n",
       "SCHEDULED_DEPARTURE    0.096064\n",
       "SCHEDULED_ARRIVAL      0.089055\n",
       "WHEELS_ON              0.058333\n",
       "ARRIVAL_TIME           0.050658\n",
       "ELAPSED_TIME           0.028500\n",
       "FLIGHT_NUMBER          0.020250\n",
       "DAY                    0.001745\n",
       "SECURITY_DELAY        -0.007481\n",
       "AIR_TIME              -0.008414\n",
       "DAY_OF_WEEK           -0.018767\n",
       "DISTANCE              -0.027589\n",
       "SCHEDULED_TIME        -0.032091\n",
       "MONTH                 -0.035776\n",
       "YEAR                        NaN\n",
       "DIVERTED                    NaN\n",
       "CANCELLED                   NaN\n",
       "Name: ARRIVAL_DELAY, dtype: float64"
      ]
     },
     "execution_count": 12,
     "metadata": {},
     "output_type": "execute_result"
    }
   ],
   "source": [
    "corr_matrix[\"ARRIVAL_DELAY\"].sort_values(ascending = False)"
   ]
  },
  {
   "cell_type": "markdown",
   "metadata": {},
   "source": [
    "Here we can see that there is a strong correlation between \"DEPARTURE_DELAY\" and \"ARRIVAL_DELAY\". This is expected because if flights depart late from the airport of origin, they are more likely to be late on arrival too. "
   ]
  },
  {
   "cell_type": "code",
   "execution_count": 13,
   "metadata": {
    "scrolled": false
   },
   "outputs": [
    {
     "data": {
      "text/plain": [
       "array([[<AxesSubplot:xlabel='DEPARTURE_DELAY', ylabel='DEPARTURE_DELAY'>,\n",
       "        <AxesSubplot:xlabel='ARRIVAL_DELAY', ylabel='DEPARTURE_DELAY'>,\n",
       "        <AxesSubplot:xlabel='DISTANCE', ylabel='DEPARTURE_DELAY'>],\n",
       "       [<AxesSubplot:xlabel='DEPARTURE_DELAY', ylabel='ARRIVAL_DELAY'>,\n",
       "        <AxesSubplot:xlabel='ARRIVAL_DELAY', ylabel='ARRIVAL_DELAY'>,\n",
       "        <AxesSubplot:xlabel='DISTANCE', ylabel='ARRIVAL_DELAY'>],\n",
       "       [<AxesSubplot:xlabel='DEPARTURE_DELAY', ylabel='DISTANCE'>,\n",
       "        <AxesSubplot:xlabel='ARRIVAL_DELAY', ylabel='DISTANCE'>,\n",
       "        <AxesSubplot:xlabel='DISTANCE', ylabel='DISTANCE'>]], dtype=object)"
      ]
     },
     "execution_count": 13,
     "metadata": {},
     "output_type": "execute_result"
    },
    {
     "data": {
      "image/png": "[encoded data removed]",
      "text/plain": [
       "<Figure size 864x576 with 9 Axes>"
      ]
     },
     "metadata": {
      "needs_background": "light"
     },
     "output_type": "display_data"
    }
   ],
   "source": [
    "from pandas.plotting import scatter_matrix\n",
    "\n",
    "columns = [\"DEPARTURE_DELAY\", \"ARRIVAL_DELAY\", \"DISTANCE\"]\n",
    "scatter_matrix(flights_df[columns], figsize=(12, 8), color = \"slategrey\")"
   ]
  },
  {
   "cell_type": "code",
   "execution_count": 14,
   "metadata": {
    "scrolled": false
   },
   "outputs": [
    {
     "data": {
      "text/plain": [
       "array([[<AxesSubplot:xlabel='DEPARTURE_DELAY', ylabel='DEPARTURE_DELAY'>,\n",
       "        <AxesSubplot:xlabel='ARRIVAL_DELAY', ylabel='DEPARTURE_DELAY'>,\n",
       "        <AxesSubplot:xlabel='ELAPSED_TIME', ylabel='DEPARTURE_DELAY'>,\n",
       "        <AxesSubplot:xlabel='DISTANCE', ylabel='DEPARTURE_DELAY'>],\n",
       "       [<AxesSubplot:xlabel='DEPARTURE_DELAY', ylabel='ARRIVAL_DELAY'>,\n",
       "        <AxesSubplot:xlabel='ARRIVAL_DELAY', ylabel='ARRIVAL_DELAY'>,\n",
       "        <AxesSubplot:xlabel='ELAPSED_TIME', ylabel='ARRIVAL_DELAY'>,\n",
       "        <AxesSubplot:xlabel='DISTANCE', ylabel='ARRIVAL_DELAY'>],\n",
       "       [<AxesSubplot:xlabel='DEPARTURE_DELAY', ylabel='ELAPSED_TIME'>,\n",
       "        <AxesSubplot:xlabel='ARRIVAL_DELAY', ylabel='ELAPSED_TIME'>,\n",
       "        <AxesSubplot:xlabel='ELAPSED_TIME', ylabel='ELAPSED_TIME'>,\n",
       "        <AxesSubplot:xlabel='DISTANCE', ylabel='ELAPSED_TIME'>],\n",
       "       [<AxesSubplot:xlabel='DEPARTURE_DELAY', ylabel='DISTANCE'>,\n",
       "        <AxesSubplot:xlabel='ARRIVAL_DELAY', ylabel='DISTANCE'>,\n",
       "        <AxesSubplot:xlabel='ELAPSED_TIME', ylabel='DISTANCE'>,\n",
       "        <AxesSubplot:xlabel='DISTANCE', ylabel='DISTANCE'>]], dtype=object)"
      ]
     },
     "execution_count": 14,
     "metadata": {},
     "output_type": "execute_result"
    },
    {
     "data": {
      "image/png": "[encoded data removed]",
      "text/plain": [
       "<Figure size 864x576 with 16 Axes>"
      ]
     },
     "metadata": {
      "needs_background": "light"
     },
     "output_type": "display_data"
    }
   ],
   "source": [
    "attributes = [\"DEPARTURE_DELAY\", \"ARRIVAL_DELAY\", \"ELAPSED_TIME\", \"DISTANCE\"]\n",
    "scatter_matrix(flights_df[attributes], figsize=(12, 8), color = \"slategrey\")"
   ]
  },
  {
   "cell_type": "markdown",
   "metadata": {},
   "source": [
    "# Section 4: <a class=\"anchor\" id=\"section4\"></a>Data Cleaning and Feature Engineering"
   ]
  },
  {
   "cell_type": "code",
   "execution_count": 15,
   "metadata": {
    "scrolled": false
   },
   "outputs": [
    {
     "data": {
      "text/html": [
       "<div>\n",
       "<style scoped>\n",
       "    .dataframe tbody tr th:only-of-type {\n",
       "        vertical-align: middle;\n",
       "    }\n",
       "\n",
       "    .dataframe tbody tr th {\n",
       "        vertical-align: top;\n",
       "    }\n",
       "\n",
       "    .dataframe thead th {\n",
       "        text-align: right;\n",
       "    }\n",
       "</style>\n",
       "<table border=\"1\" class=\"dataframe\">\n",
       "  <thead>\n",
       "    <tr style=\"text-align: right;\">\n",
       "      <th></th>\n",
       "      <th>null_count</th>\n",
       "      <th>null_percentage</th>\n",
       "    </tr>\n",
       "  </thead>\n",
       "  <tbody>\n",
       "    <tr>\n",
       "      <th>CANCELLATION_REASON</th>\n",
       "      <td>49228</td>\n",
       "      <td>98.46</td>\n",
       "    </tr>\n",
       "    <tr>\n",
       "      <th>WEATHER_DELAY</th>\n",
       "      <td>40795</td>\n",
       "      <td>81.59</td>\n",
       "    </tr>\n",
       "    <tr>\n",
       "      <th>LATE_AIRCRAFT_DELAY</th>\n",
       "      <td>40795</td>\n",
       "      <td>81.59</td>\n",
       "    </tr>\n",
       "    <tr>\n",
       "      <th>AIRLINE_DELAY</th>\n",
       "      <td>40795</td>\n",
       "      <td>81.59</td>\n",
       "    </tr>\n",
       "    <tr>\n",
       "      <th>SECURITY_DELAY</th>\n",
       "      <td>40795</td>\n",
       "      <td>81.59</td>\n",
       "    </tr>\n",
       "    <tr>\n",
       "      <th>AIR_SYSTEM_DELAY</th>\n",
       "      <td>40795</td>\n",
       "      <td>81.59</td>\n",
       "    </tr>\n",
       "    <tr>\n",
       "      <th>AIR_TIME</th>\n",
       "      <td>903</td>\n",
       "      <td>1.81</td>\n",
       "    </tr>\n",
       "    <tr>\n",
       "      <th>ARRIVAL_DELAY</th>\n",
       "      <td>903</td>\n",
       "      <td>1.81</td>\n",
       "    </tr>\n",
       "    <tr>\n",
       "      <th>ELAPSED_TIME</th>\n",
       "      <td>903</td>\n",
       "      <td>1.81</td>\n",
       "    </tr>\n",
       "    <tr>\n",
       "      <th>WHEELS_ON</th>\n",
       "      <td>790</td>\n",
       "      <td>1.58</td>\n",
       "    </tr>\n",
       "    <tr>\n",
       "      <th>TAXI_IN</th>\n",
       "      <td>790</td>\n",
       "      <td>1.58</td>\n",
       "    </tr>\n",
       "    <tr>\n",
       "      <th>ARRIVAL_TIME</th>\n",
       "      <td>790</td>\n",
       "      <td>1.58</td>\n",
       "    </tr>\n",
       "    <tr>\n",
       "      <th>TAXI_OUT</th>\n",
       "      <td>759</td>\n",
       "      <td>1.52</td>\n",
       "    </tr>\n",
       "    <tr>\n",
       "      <th>WHEELS_OFF</th>\n",
       "      <td>759</td>\n",
       "      <td>1.52</td>\n",
       "    </tr>\n",
       "    <tr>\n",
       "      <th>DEPARTURE_DELAY</th>\n",
       "      <td>723</td>\n",
       "      <td>1.45</td>\n",
       "    </tr>\n",
       "    <tr>\n",
       "      <th>DEPARTURE_TIME</th>\n",
       "      <td>723</td>\n",
       "      <td>1.45</td>\n",
       "    </tr>\n",
       "    <tr>\n",
       "      <th>TAIL_NUMBER</th>\n",
       "      <td>131</td>\n",
       "      <td>0.26</td>\n",
       "    </tr>\n",
       "    <tr>\n",
       "      <th>SCHEDULED_DEPARTURE</th>\n",
       "      <td>0</td>\n",
       "      <td>0.00</td>\n",
       "    </tr>\n",
       "    <tr>\n",
       "      <th>CANCELLED</th>\n",
       "      <td>0</td>\n",
       "      <td>0.00</td>\n",
       "    </tr>\n",
       "    <tr>\n",
       "      <th>DAY</th>\n",
       "      <td>0</td>\n",
       "      <td>0.00</td>\n",
       "    </tr>\n",
       "    <tr>\n",
       "      <th>DAY_OF_WEEK</th>\n",
       "      <td>0</td>\n",
       "      <td>0.00</td>\n",
       "    </tr>\n",
       "    <tr>\n",
       "      <th>AIRLINE</th>\n",
       "      <td>0</td>\n",
       "      <td>0.00</td>\n",
       "    </tr>\n",
       "    <tr>\n",
       "      <th>FLIGHT_NUMBER</th>\n",
       "      <td>0</td>\n",
       "      <td>0.00</td>\n",
       "    </tr>\n",
       "    <tr>\n",
       "      <th>SCHEDULED_ARRIVAL</th>\n",
       "      <td>0</td>\n",
       "      <td>0.00</td>\n",
       "    </tr>\n",
       "    <tr>\n",
       "      <th>DIVERTED</th>\n",
       "      <td>0</td>\n",
       "      <td>0.00</td>\n",
       "    </tr>\n",
       "    <tr>\n",
       "      <th>ORIGIN_AIRPORT</th>\n",
       "      <td>0</td>\n",
       "      <td>0.00</td>\n",
       "    </tr>\n",
       "    <tr>\n",
       "      <th>DISTANCE</th>\n",
       "      <td>0</td>\n",
       "      <td>0.00</td>\n",
       "    </tr>\n",
       "    <tr>\n",
       "      <th>DESTINATION_AIRPORT</th>\n",
       "      <td>0</td>\n",
       "      <td>0.00</td>\n",
       "    </tr>\n",
       "    <tr>\n",
       "      <th>MONTH</th>\n",
       "      <td>0</td>\n",
       "      <td>0.00</td>\n",
       "    </tr>\n",
       "    <tr>\n",
       "      <th>SCHEDULED_TIME</th>\n",
       "      <td>0</td>\n",
       "      <td>0.00</td>\n",
       "    </tr>\n",
       "    <tr>\n",
       "      <th>YEAR</th>\n",
       "      <td>0</td>\n",
       "      <td>0.00</td>\n",
       "    </tr>\n",
       "  </tbody>\n",
       "</table>\n",
       "</div>"
      ],
      "text/plain": [
       "                     null_count  null_percentage\n",
       "CANCELLATION_REASON       49228            98.46\n",
       "WEATHER_DELAY             40795            81.59\n",
       "LATE_AIRCRAFT_DELAY       40795            81.59\n",
       "AIRLINE_DELAY             40795            81.59\n",
       "SECURITY_DELAY            40795            81.59\n",
       "AIR_SYSTEM_DELAY          40795            81.59\n",
       "AIR_TIME                    903             1.81\n",
       "ARRIVAL_DELAY               903             1.81\n",
       "ELAPSED_TIME                903             1.81\n",
       "WHEELS_ON                   790             1.58\n",
       "TAXI_IN                     790             1.58\n",
       "ARRIVAL_TIME                790             1.58\n",
       "TAXI_OUT                    759             1.52\n",
       "WHEELS_OFF                  759             1.52\n",
       "DEPARTURE_DELAY             723             1.45\n",
       "DEPARTURE_TIME              723             1.45\n",
       "TAIL_NUMBER                 131             0.26\n",
       "SCHEDULED_DEPARTURE           0             0.00\n",
       "CANCELLED                     0             0.00\n",
       "DAY                           0             0.00\n",
       "DAY_OF_WEEK                   0             0.00\n",
       "AIRLINE                       0             0.00\n",
       "FLIGHT_NUMBER                 0             0.00\n",
       "SCHEDULED_ARRIVAL             0             0.00\n",
       "DIVERTED                      0             0.00\n",
       "ORIGIN_AIRPORT                0             0.00\n",
       "DISTANCE                      0             0.00\n",
       "DESTINATION_AIRPORT           0             0.00\n",
       "MONTH                         0             0.00\n",
       "SCHEDULED_TIME                0             0.00\n",
       "YEAR                          0             0.00"
      ]
     },
     "execution_count": 15,
     "metadata": {},
     "output_type": "execute_result"
    }
   ],
   "source": [
    "#inspect the missing values of the df\n",
    "missing_values_count = flights_df.isnull().sum().sort_values(ascending = False).to_frame()\n",
    "missing_values_count['null_percentage'] = round((flights_df.isnull().sum() * 100 / len(flights_df)),2)\n",
    "missing_values_count.rename(columns={0:'null_count'}, inplace = True)\n",
    "missing_values_count"
   ]
  },
  {
   "cell_type": "markdown",
   "metadata": {},
   "source": [
    "It can be observed that the last 6 columns do indeed have a lot of null values and thus will be dropped. Below, all rows that have more than 50% of missing values will be dropped since they cannot be used for the analysis. "
   ]
  },
  {
   "cell_type": "code",
   "execution_count": 16,
   "metadata": {},
   "outputs": [],
   "source": [
    "#drop columns with more than 50 % nan\n",
    "flights_df = flights_df.dropna(thresh=flights_df.shape[0]*0.5,how='all',axis=1)"
   ]
  },
  {
   "cell_type": "code",
   "execution_count": 17,
   "metadata": {
    "scrolled": false
   },
   "outputs": [
    {
     "data": {
      "text/plain": [
       "ATL      3001\n",
       "ORD      2393\n",
       "DFW      1970\n",
       "LAX      1668\n",
       "DEN      1665\n",
       "         ... \n",
       "11617       1\n",
       "14025       1\n",
       "10268       1\n",
       "11308       1\n",
       "MQT         1\n",
       "Name: ORIGIN_AIRPORT, Length: 564, dtype: int64"
      ]
     },
     "execution_count": 17,
     "metadata": {},
     "output_type": "execute_result"
    }
   ],
   "source": [
    "# here we check the values of \"ORIGIN_AIRPORT\" column and see anomalies\n",
    "flights_df[\"ORIGIN_AIRPORT\"].value_counts()"
   ]
  },
  {
   "cell_type": "markdown",
   "metadata": {},
   "source": [
    "Here we can see that some of the values on the \"ORIGIN_AIRPORT\" column have integers instead of a 3-letter word that characterize the airport based on their IATA code. Thus, the rows not containing the 3-letter word are dropped. We also do the same for \"DESTINATION_AIRPORT\" to make sure there is no missing values there. "
   ]
  },
  {
   "cell_type": "code",
   "execution_count": 18,
   "metadata": {},
   "outputs": [],
   "source": [
    "#only keeping rows that have 3 letters since 3 letters is the IATA Code of Airport\n",
    "flights_df = flights_df[flights_df['ORIGIN_AIRPORT'].str.len() == 3]\n",
    "flights_df = flights_df[flights_df['DESTINATION_AIRPORT'].str.len() == 3]"
   ]
  },
  {
   "cell_type": "code",
   "execution_count": 19,
   "metadata": {
    "scrolled": true
   },
   "outputs": [],
   "source": [
    "# Dropping all rows with NaN values \n",
    "flights_df = flights_df.dropna()"
   ]
  },
  {
   "cell_type": "code",
   "execution_count": 20,
   "metadata": {
    "scrolled": false
   },
   "outputs": [
    {
     "data": {
      "text/plain": [
       "YEAR                   0\n",
       "MONTH                  0\n",
       "DAY                    0\n",
       "DAY_OF_WEEK            0\n",
       "AIRLINE                0\n",
       "FLIGHT_NUMBER          0\n",
       "TAIL_NUMBER            0\n",
       "ORIGIN_AIRPORT         0\n",
       "DESTINATION_AIRPORT    0\n",
       "SCHEDULED_DEPARTURE    0\n",
       "DEPARTURE_TIME         0\n",
       "DEPARTURE_DELAY        0\n",
       "TAXI_OUT               0\n",
       "WHEELS_OFF             0\n",
       "SCHEDULED_TIME         0\n",
       "ELAPSED_TIME           0\n",
       "AIR_TIME               0\n",
       "DISTANCE               0\n",
       "WHEELS_ON              0\n",
       "TAXI_IN                0\n",
       "SCHEDULED_ARRIVAL      0\n",
       "ARRIVAL_TIME           0\n",
       "ARRIVAL_DELAY          0\n",
       "DIVERTED               0\n",
       "CANCELLED              0\n",
       "dtype: int64"
      ]
     },
     "execution_count": 20,
     "metadata": {},
     "output_type": "execute_result"
    }
   ],
   "source": [
    "flights_df.isnull().sum()"
   ]
  },
  {
   "cell_type": "code",
   "execution_count": 21,
   "metadata": {
    "scrolled": false
   },
   "outputs": [
    {
     "name": "stdout",
     "output_type": "stream",
     "text": [
      "After dropping all rows with missing values, the total rows we will be working with are 44865.\n"
     ]
    }
   ],
   "source": [
    "print('After dropping all rows with missing values, the total rows we will be working with are ',\n",
    "      flights_df.shape[0],'.', sep='')"
   ]
  },
  {
   "cell_type": "code",
   "execution_count": 22,
   "metadata": {},
   "outputs": [],
   "source": [
    "# Dropping Columns which will not be used for analysis\n",
    "flights_df.drop(['CANCELLED', 'FLIGHT_NUMBER', 'TAIL_NUMBER', 'YEAR', \n",
    "                 'WHEELS_ON','WHEELS_OFF', 'DAY', 'DAY_OF_WEEK', 'DIVERTED'], axis=1, inplace=True)"
   ]
  },
  {
   "cell_type": "markdown",
   "metadata": {},
   "source": [
    "Here you can notice that the column \"YEAR\" is also dropped because as mentioned in the introduction, the dataset is only for flights that took place in 2015 and thus it is not needed for the analysis. "
   ]
  },
  {
   "cell_type": "code",
   "execution_count": 23,
   "metadata": {},
   "outputs": [
    {
     "data": {
      "text/plain": [
       "<AxesSubplot:>"
      ]
     },
     "execution_count": 23,
     "metadata": {},
     "output_type": "execute_result"
    },
    {
     "data": {
      "image/png": "[encoded data removed]",
      "text/plain": [
       "<Figure size 720x720 with 2 Axes>"
      ]
     },
     "metadata": {
      "needs_background": "light"
     },
     "output_type": "display_data"
    }
   ],
   "source": [
    "plt.figure(figsize=(10, 10))\n",
    "sns.heatmap(flights_df.corr(), linewidths=.5, cmap=\"Blues\")"
   ]
  },
  {
   "cell_type": "code",
   "execution_count": 24,
   "metadata": {
    "scrolled": true
   },
   "outputs": [],
   "source": [
    "# Reordering the columns for better visibility \n",
    "flights_df = flights_df[['AIRLINE', 'ORIGIN_AIRPORT', 'DESTINATION_AIRPORT', 'MONTH',\n",
    "                         'SCHEDULED_DEPARTURE', 'DEPARTURE_TIME', 'DEPARTURE_DELAY', 'SCHEDULED_ARRIVAL',\n",
    "                         'ARRIVAL_TIME', 'ARRIVAL_DELAY', 'SCHEDULED_TIME', 'ELAPSED_TIME', 'AIR_TIME',\n",
    "                         'DISTANCE', 'TAXI_IN', 'TAXI_OUT']]"
   ]
  },
  {
   "cell_type": "code",
   "execution_count": 25,
   "metadata": {},
   "outputs": [],
   "source": [
    "#Renaming IATA code with Airline Name for easier readability\n",
    "flights_df['AIRLINE'] = flights_df['AIRLINE'].str.replace('UA', 'United Airlines')\n",
    "flights_df['AIRLINE'] = flights_df['AIRLINE'].str.replace('AA', 'American Airlines')\n",
    "flights_df['AIRLINE'] = flights_df['AIRLINE'].str.replace('US', 'US Airways')\n",
    "flights_df['AIRLINE'] = flights_df['AIRLINE'].str.replace('F9', 'Frontier Airlines')\n",
    "flights_df['AIRLINE'] = flights_df['AIRLINE'].str.replace('B6', 'JetBlue Airways')\n",
    "flights_df['AIRLINE'] = flights_df['AIRLINE'].str.replace('OO', 'Skywest Airlines')\n",
    "flights_df['AIRLINE'] = flights_df['AIRLINE'].str.replace('AS', 'Alaska Airlines')\n",
    "flights_df['AIRLINE'] = flights_df['AIRLINE'].str.replace('NK', 'Spirit Air Lines')\n",
    "flights_df['AIRLINE'] = flights_df['AIRLINE'].str.replace('WN', 'Southwest Airlines')\n",
    "flights_df['AIRLINE'] = flights_df['AIRLINE'].str.replace('DL', 'Delta Air Lines')\n",
    "flights_df['AIRLINE'] = flights_df['AIRLINE'].str.replace('EV', 'Atlantic Southeast Airlines')\n",
    "flights_df['AIRLINE'] = flights_df['AIRLINE'].str.replace('HA', 'Hawaiian Airlines')\n",
    "flights_df['AIRLINE'] = flights_df['AIRLINE'].str.replace('MQ', 'American Eagle Airlines')\n",
    "flights_df['AIRLINE'] = flights_df['AIRLINE'].str.replace('VX', 'Virgin America')"
   ]
  },
  {
   "cell_type": "code",
   "execution_count": 26,
   "metadata": {},
   "outputs": [],
   "source": [
    "# Converting Floats to Integers since all of them ended with '0'\n",
    "flights_df['DEPARTURE_TIME'] = flights_df['DEPARTURE_TIME'].astype(str)\n",
    "flights_df['DEPARTURE_DELAY'] = flights_df['DEPARTURE_DELAY'].astype(int)\n",
    "flights_df['ARRIVAL_TIME'] = flights_df['ARRIVAL_TIME'].astype(str)\n",
    "flights_df['ARRIVAL_DELAY'] = flights_df['ARRIVAL_DELAY'].astype(int)\n",
    "flights_df['ELAPSED_TIME'] = flights_df['ELAPSED_TIME'].astype(int)\n",
    "flights_df['AIR_TIME'] = flights_df['AIR_TIME'].astype(int)\n",
    "flights_df['TAXI_IN'] = flights_df['TAXI_IN'].astype(int)\n",
    "flights_df['TAXI_OUT'] = flights_df['TAXI_OUT'].astype(int)"
   ]
  },
  {
   "cell_type": "markdown",
   "metadata": {},
   "source": [
    "## Section 4.1: <a class=\"anchor\" id=\"4_1\"></a> Variable Description"
   ]
  },
  {
   "cell_type": "code",
   "execution_count": 27,
   "metadata": {},
   "outputs": [],
   "source": [
    "variable_description = {'Variable Name': ['AIRLINE', 'ORIGIN_AIRPORT', 'DESTINATION_AIRPORT', 'MONTH', \n",
    "                                    'DAY_OF_WEEK', 'SCHEDULED_DEPARTURE', 'DEPARTURE_TIME', 'DEPARTURE_DELAY', \n",
    "                                    'SCHEDULED_ARRIVAL', 'ARRIVAL_TIME', 'ARRIVAL_DELAY', 'SCHEDULED_TIME', \n",
    "                                    'ELAPSED_TIME', 'AIR_TIME', 'DISTANCE'],\n",
    "                 'Description': ['Name of the Airline', 'Airport of Origin', 'Airport of Destination', \n",
    "             'Month of the Delay', 'Day of the Week of Delay', 'Scheduled Departure Time', \n",
    "             'Actual Departure Time', 'Difference between Scheduled and Actual Departure Time', \n",
    "             'Scheduled Arrival Time', 'Actual Arrival Time',\n",
    "             'Difference between Scheduled and Actual Arrival Time', 'Scheduled Time of Flights', \n",
    "             'Actual Time of Flight', 'Time of Plane in the Air', 'Distance of Flight']}"
   ]
  },
  {
   "cell_type": "code",
   "execution_count": 28,
   "metadata": {},
   "outputs": [
    {
     "data": {
      "text/html": [
       "<div>\n",
       "<style scoped>\n",
       "    .dataframe tbody tr th:only-of-type {\n",
       "        vertical-align: middle;\n",
       "    }\n",
       "\n",
       "    .dataframe tbody tr th {\n",
       "        vertical-align: top;\n",
       "    }\n",
       "\n",
       "    .dataframe thead th {\n",
       "        text-align: right;\n",
       "    }\n",
       "</style>\n",
       "<table border=\"1\" class=\"dataframe\">\n",
       "  <thead>\n",
       "    <tr style=\"text-align: right;\">\n",
       "      <th></th>\n",
       "      <th>Variable Name</th>\n",
       "      <th>Description</th>\n",
       "    </tr>\n",
       "  </thead>\n",
       "  <tbody>\n",
       "    <tr>\n",
       "      <th>0</th>\n",
       "      <td>AIRLINE</td>\n",
       "      <td>Name of the Airline</td>\n",
       "    </tr>\n",
       "    <tr>\n",
       "      <th>1</th>\n",
       "      <td>ORIGIN_AIRPORT</td>\n",
       "      <td>Airport of Origin</td>\n",
       "    </tr>\n",
       "    <tr>\n",
       "      <th>2</th>\n",
       "      <td>DESTINATION_AIRPORT</td>\n",
       "      <td>Airport of Destination</td>\n",
       "    </tr>\n",
       "    <tr>\n",
       "      <th>3</th>\n",
       "      <td>MONTH</td>\n",
       "      <td>Month of the Delay</td>\n",
       "    </tr>\n",
       "    <tr>\n",
       "      <th>4</th>\n",
       "      <td>DAY_OF_WEEK</td>\n",
       "      <td>Day of the Week of Delay</td>\n",
       "    </tr>\n",
       "    <tr>\n",
       "      <th>5</th>\n",
       "      <td>SCHEDULED_DEPARTURE</td>\n",
       "      <td>Scheduled Departure Time</td>\n",
       "    </tr>\n",
       "    <tr>\n",
       "      <th>6</th>\n",
       "      <td>DEPARTURE_TIME</td>\n",
       "      <td>Actual Departure Time</td>\n",
       "    </tr>\n",
       "    <tr>\n",
       "      <th>7</th>\n",
       "      <td>DEPARTURE_DELAY</td>\n",
       "      <td>Difference between Scheduled and Actual Depart...</td>\n",
       "    </tr>\n",
       "    <tr>\n",
       "      <th>8</th>\n",
       "      <td>SCHEDULED_ARRIVAL</td>\n",
       "      <td>Scheduled Arrival Time</td>\n",
       "    </tr>\n",
       "    <tr>\n",
       "      <th>9</th>\n",
       "      <td>ARRIVAL_TIME</td>\n",
       "      <td>Actual Arrival Time</td>\n",
       "    </tr>\n",
       "    <tr>\n",
       "      <th>10</th>\n",
       "      <td>ARRIVAL_DELAY</td>\n",
       "      <td>Difference between Scheduled and Actual Arriva...</td>\n",
       "    </tr>\n",
       "    <tr>\n",
       "      <th>11</th>\n",
       "      <td>SCHEDULED_TIME</td>\n",
       "      <td>Scheduled Time of Flights</td>\n",
       "    </tr>\n",
       "    <tr>\n",
       "      <th>12</th>\n",
       "      <td>ELAPSED_TIME</td>\n",
       "      <td>Actual Time of Flight</td>\n",
       "    </tr>\n",
       "    <tr>\n",
       "      <th>13</th>\n",
       "      <td>AIR_TIME</td>\n",
       "      <td>Time of Plane in the Air</td>\n",
       "    </tr>\n",
       "    <tr>\n",
       "      <th>14</th>\n",
       "      <td>DISTANCE</td>\n",
       "      <td>Distance of Flight</td>\n",
       "    </tr>\n",
       "  </tbody>\n",
       "</table>\n",
       "</div>"
      ],
      "text/plain": [
       "          Variable Name                                        Description\n",
       "0               AIRLINE                                Name of the Airline\n",
       "1        ORIGIN_AIRPORT                                  Airport of Origin\n",
       "2   DESTINATION_AIRPORT                             Airport of Destination\n",
       "3                 MONTH                                 Month of the Delay\n",
       "4           DAY_OF_WEEK                           Day of the Week of Delay\n",
       "5   SCHEDULED_DEPARTURE                           Scheduled Departure Time\n",
       "6        DEPARTURE_TIME                              Actual Departure Time\n",
       "7       DEPARTURE_DELAY  Difference between Scheduled and Actual Depart...\n",
       "8     SCHEDULED_ARRIVAL                             Scheduled Arrival Time\n",
       "9          ARRIVAL_TIME                                Actual Arrival Time\n",
       "10        ARRIVAL_DELAY  Difference between Scheduled and Actual Arriva...\n",
       "11       SCHEDULED_TIME                          Scheduled Time of Flights\n",
       "12         ELAPSED_TIME                              Actual Time of Flight\n",
       "13             AIR_TIME                           Time of Plane in the Air\n",
       "14             DISTANCE                                 Distance of Flight"
      ]
     },
     "execution_count": 28,
     "metadata": {},
     "output_type": "execute_result"
    }
   ],
   "source": [
    "variables = pd.DataFrame(variable_description)\n",
    "variables"
   ]
  },
  {
   "cell_type": "markdown",
   "metadata": {},
   "source": [
    "# Section 5: <a class=\"anchor\" id=\"section5\"></a> Data Visualization"
   ]
  },
  {
   "cell_type": "code",
   "execution_count": 29,
   "metadata": {
    "scrolled": false
   },
   "outputs": [
    {
     "data": {
      "text/html": [
       "<div>\n",
       "<style scoped>\n",
       "    .dataframe tbody tr th:only-of-type {\n",
       "        vertical-align: middle;\n",
       "    }\n",
       "\n",
       "    .dataframe tbody tr th {\n",
       "        vertical-align: top;\n",
       "    }\n",
       "\n",
       "    .dataframe thead th {\n",
       "        text-align: right;\n",
       "    }\n",
       "</style>\n",
       "<table border=\"1\" class=\"dataframe\">\n",
       "  <thead>\n",
       "    <tr style=\"text-align: right;\">\n",
       "      <th></th>\n",
       "      <th>AIRLINE</th>\n",
       "      <th>DEPARTURE_DELAY</th>\n",
       "      <th>ARRIVAL_DELAY</th>\n",
       "    </tr>\n",
       "  </thead>\n",
       "  <tbody>\n",
       "    <tr>\n",
       "      <th>5</th>\n",
       "      <td>Frontier Airlines</td>\n",
       "      <td>15.042105</td>\n",
       "      <td>14.464662</td>\n",
       "    </tr>\n",
       "    <tr>\n",
       "      <th>12</th>\n",
       "      <td>United Airlines</td>\n",
       "      <td>14.947651</td>\n",
       "      <td>6.393258</td>\n",
       "    </tr>\n",
       "    <tr>\n",
       "      <th>10</th>\n",
       "      <td>Spirit Air Lines</td>\n",
       "      <td>14.932447</td>\n",
       "      <td>13.947951</td>\n",
       "    </tr>\n",
       "    <tr>\n",
       "      <th>7</th>\n",
       "      <td>JetBlue Airways</td>\n",
       "      <td>12.519062</td>\n",
       "      <td>7.062072</td>\n",
       "    </tr>\n",
       "    <tr>\n",
       "      <th>9</th>\n",
       "      <td>Southwest Airlines</td>\n",
       "      <td>11.471106</td>\n",
       "      <td>5.383058</td>\n",
       "    </tr>\n",
       "    <tr>\n",
       "      <th>13</th>\n",
       "      <td>Virgin America</td>\n",
       "      <td>9.438178</td>\n",
       "      <td>5.255965</td>\n",
       "    </tr>\n",
       "    <tr>\n",
       "      <th>2</th>\n",
       "      <td>American Eagle Airlines</td>\n",
       "      <td>9.301326</td>\n",
       "      <td>6.326017</td>\n",
       "    </tr>\n",
       "    <tr>\n",
       "      <th>1</th>\n",
       "      <td>American Airlines</td>\n",
       "      <td>9.251864</td>\n",
       "      <td>4.017276</td>\n",
       "    </tr>\n",
       "    <tr>\n",
       "      <th>8</th>\n",
       "      <td>Skywest Airlines</td>\n",
       "      <td>8.740502</td>\n",
       "      <td>6.900244</td>\n",
       "    </tr>\n",
       "    <tr>\n",
       "      <th>3</th>\n",
       "      <td>Atlantic Southeast Airlines</td>\n",
       "      <td>8.486845</td>\n",
       "      <td>6.572992</td>\n",
       "    </tr>\n",
       "    <tr>\n",
       "      <th>4</th>\n",
       "      <td>Delta Air Lines</td>\n",
       "      <td>7.791228</td>\n",
       "      <td>0.636849</td>\n",
       "    </tr>\n",
       "    <tr>\n",
       "      <th>11</th>\n",
       "      <td>US Airways</td>\n",
       "      <td>4.947949</td>\n",
       "      <td>2.794856</td>\n",
       "    </tr>\n",
       "    <tr>\n",
       "      <th>0</th>\n",
       "      <td>Alaska Airlines</td>\n",
       "      <td>1.488839</td>\n",
       "      <td>-1.304315</td>\n",
       "    </tr>\n",
       "    <tr>\n",
       "      <th>6</th>\n",
       "      <td>Hawaiian Airlines</td>\n",
       "      <td>1.061360</td>\n",
       "      <td>2.290216</td>\n",
       "    </tr>\n",
       "  </tbody>\n",
       "</table>\n",
       "</div>"
      ],
      "text/plain": [
       "                        AIRLINE  DEPARTURE_DELAY  ARRIVAL_DELAY\n",
       "5             Frontier Airlines        15.042105      14.464662\n",
       "12              United Airlines        14.947651       6.393258\n",
       "10             Spirit Air Lines        14.932447      13.947951\n",
       "7               JetBlue Airways        12.519062       7.062072\n",
       "9            Southwest Airlines        11.471106       5.383058\n",
       "13               Virgin America         9.438178       5.255965\n",
       "2       American Eagle Airlines         9.301326       6.326017\n",
       "1             American Airlines         9.251864       4.017276\n",
       "8              Skywest Airlines         8.740502       6.900244\n",
       "3   Atlantic Southeast Airlines         8.486845       6.572992\n",
       "4               Delta Air Lines         7.791228       0.636849\n",
       "11                   US Airways         4.947949       2.794856\n",
       "0               Alaska Airlines         1.488839      -1.304315\n",
       "6             Hawaiian Airlines         1.061360       2.290216"
      ]
     },
     "execution_count": 29,
     "metadata": {},
     "output_type": "execute_result"
    }
   ],
   "source": [
    "grouped_airlines = flights_df[['AIRLINE', 'DEPARTURE_DELAY', 'ARRIVAL_DELAY']] #dataframe of 3 columns \n",
    "#getting the mean of departure and arrival delay grouped by airline and sorted by departure delay\n",
    "grouped_airlines = grouped_airlines.groupby(['AIRLINE']).mean().reset_index().sort_values(by = \"DEPARTURE_DELAY\", ascending = False)\n",
    "grouped_airlines"
   ]
  },
  {
   "cell_type": "markdown",
   "metadata": {},
   "source": [
    "## Section 5.1: <a class=\"anchor\" id=\"5_1\"></a> Airline Average Delay"
   ]
  },
  {
   "cell_type": "code",
   "execution_count": 30,
   "metadata": {
    "scrolled": false
   },
   "outputs": [
    {
     "data": {
      "image/png": "[encoded data removed]",
      "text/plain": [
       "<Figure size 720x504 with 1 Axes>"
      ]
     },
     "metadata": {
      "needs_background": "light"
     },
     "output_type": "display_data"
    }
   ],
   "source": [
    "fig = plt.figure(figsize = (10,7)) #dpi for higher resolution graph\n",
    "X = grouped_airlines['AIRLINE'].tolist()\n",
    "Y = list(grouped_airlines['DEPARTURE_DELAY'])\n",
    "Z = list(grouped_airlines['ARRIVAL_DELAY'])\n",
    "\n",
    "\n",
    "X_axis = np.arange(len(X))\n",
    "plt.bar(X_axis - 0.2, Y , 0.4, label = 'Departure Delay', color = 'slategrey')\n",
    "plt.bar(X_axis + 0.2, Z , 0.4, label = 'Arrival Delay',   color = 'lightsteelblue')\n",
    "  \n",
    "plt.xticks(X_axis, X)\n",
    "plt.xticks(rotation=45, ha=\"right\") #diagonal x ticks\n",
    "plt.ylabel(\"Mean Delay (in minutes)\")\n",
    "plt.title(\"Average Delay by Airline\")\n",
    "plt.legend() #legend in top left side\n",
    "plt.show()"
   ]
  },
  {
   "cell_type": "markdown",
   "metadata": {},
   "source": [
    "From the bar chart above we can observe that Frontier Airlines, United Airlines, and Spirit Airlines have, on average, a little over 14 minutes of departure delay. On the other hand, we can see that when it comes to Arrival Delay, Frontier and Spirit flights are around 13 minutes late and United's are only around 6 minutes late. The graph also eludicates that in general, there are more departure delays than arrival delays. This means that in case of a delay in departure, airplanes adapt their speed to decrease the amount of delays in arrival. This can be clearly seen at the values for Alaska Airlines which has ~2 minutes delay in departure but also arrives at the destination ~2 minutes before schedule."
   ]
  },
  {
   "cell_type": "markdown",
   "metadata": {},
   "source": [
    "## Section 5.2: <a class=\"anchor\" id=\"5_2\"></a> Busiest Airports"
   ]
  },
  {
   "cell_type": "code",
   "execution_count": 31,
   "metadata": {
    "scrolled": true
   },
   "outputs": [
    {
     "data": {
      "text/html": [
       "<div>\n",
       "<style scoped>\n",
       "    .dataframe tbody tr th:only-of-type {\n",
       "        vertical-align: middle;\n",
       "    }\n",
       "\n",
       "    .dataframe tbody tr th {\n",
       "        vertical-align: top;\n",
       "    }\n",
       "\n",
       "    .dataframe thead th {\n",
       "        text-align: right;\n",
       "    }\n",
       "</style>\n",
       "<table border=\"1\" class=\"dataframe\">\n",
       "  <thead>\n",
       "    <tr style=\"text-align: right;\">\n",
       "      <th></th>\n",
       "      <th>index</th>\n",
       "      <th>ORIGIN_AIRPORT</th>\n",
       "    </tr>\n",
       "  </thead>\n",
       "  <tbody>\n",
       "    <tr>\n",
       "      <th>0</th>\n",
       "      <td>ATL</td>\n",
       "      <td>2974</td>\n",
       "    </tr>\n",
       "    <tr>\n",
       "      <th>1</th>\n",
       "      <td>ORD</td>\n",
       "      <td>2309</td>\n",
       "    </tr>\n",
       "    <tr>\n",
       "      <th>2</th>\n",
       "      <td>DFW</td>\n",
       "      <td>1923</td>\n",
       "    </tr>\n",
       "    <tr>\n",
       "      <th>3</th>\n",
       "      <td>DEN</td>\n",
       "      <td>1645</td>\n",
       "    </tr>\n",
       "    <tr>\n",
       "      <th>4</th>\n",
       "      <td>LAX</td>\n",
       "      <td>1645</td>\n",
       "    </tr>\n",
       "    <tr>\n",
       "      <th>5</th>\n",
       "      <td>PHX</td>\n",
       "      <td>1274</td>\n",
       "    </tr>\n",
       "    <tr>\n",
       "      <th>6</th>\n",
       "      <td>IAH</td>\n",
       "      <td>1233</td>\n",
       "    </tr>\n",
       "    <tr>\n",
       "      <th>7</th>\n",
       "      <td>SFO</td>\n",
       "      <td>1228</td>\n",
       "    </tr>\n",
       "    <tr>\n",
       "      <th>8</th>\n",
       "      <td>LAS</td>\n",
       "      <td>1130</td>\n",
       "    </tr>\n",
       "    <tr>\n",
       "      <th>9</th>\n",
       "      <td>MSP</td>\n",
       "      <td>1030</td>\n",
       "    </tr>\n",
       "  </tbody>\n",
       "</table>\n",
       "</div>"
      ],
      "text/plain": [
       "  index  ORIGIN_AIRPORT\n",
       "0   ATL            2974\n",
       "1   ORD            2309\n",
       "2   DFW            1923\n",
       "3   DEN            1645\n",
       "4   LAX            1645\n",
       "5   PHX            1274\n",
       "6   IAH            1233\n",
       "7   SFO            1228\n",
       "8   LAS            1130\n",
       "9   MSP            1030"
      ]
     },
     "execution_count": 31,
     "metadata": {},
     "output_type": "execute_result"
    }
   ],
   "source": [
    "# creating a dataframe to count all flights from airports\n",
    "airport_flight_count = pd.DataFrame(flights_df[\"ORIGIN_AIRPORT\"].value_counts()).reset_index()\n",
    "airport_flight_count.head(10)"
   ]
  },
  {
   "cell_type": "code",
   "execution_count": 32,
   "metadata": {
    "scrolled": false
   },
   "outputs": [
    {
     "data": {
      "text/html": [
       "<div>\n",
       "<style scoped>\n",
       "    .dataframe tbody tr th:only-of-type {\n",
       "        vertical-align: middle;\n",
       "    }\n",
       "\n",
       "    .dataframe tbody tr th {\n",
       "        vertical-align: top;\n",
       "    }\n",
       "\n",
       "    .dataframe thead th {\n",
       "        text-align: right;\n",
       "    }\n",
       "</style>\n",
       "<table border=\"1\" class=\"dataframe\">\n",
       "  <thead>\n",
       "    <tr style=\"text-align: right;\">\n",
       "      <th></th>\n",
       "      <th>ORIGIN_AIRPORT</th>\n",
       "      <th>TOTAL_FLIGHTS</th>\n",
       "    </tr>\n",
       "  </thead>\n",
       "  <tbody>\n",
       "    <tr>\n",
       "      <th>0</th>\n",
       "      <td>ATL</td>\n",
       "      <td>2974</td>\n",
       "    </tr>\n",
       "    <tr>\n",
       "      <th>1</th>\n",
       "      <td>ORD</td>\n",
       "      <td>2309</td>\n",
       "    </tr>\n",
       "    <tr>\n",
       "      <th>2</th>\n",
       "      <td>DFW</td>\n",
       "      <td>1923</td>\n",
       "    </tr>\n",
       "    <tr>\n",
       "      <th>3</th>\n",
       "      <td>DEN</td>\n",
       "      <td>1645</td>\n",
       "    </tr>\n",
       "    <tr>\n",
       "      <th>4</th>\n",
       "      <td>LAX</td>\n",
       "      <td>1645</td>\n",
       "    </tr>\n",
       "    <tr>\n",
       "      <th>5</th>\n",
       "      <td>PHX</td>\n",
       "      <td>1274</td>\n",
       "    </tr>\n",
       "    <tr>\n",
       "      <th>6</th>\n",
       "      <td>IAH</td>\n",
       "      <td>1233</td>\n",
       "    </tr>\n",
       "    <tr>\n",
       "      <th>7</th>\n",
       "      <td>SFO</td>\n",
       "      <td>1228</td>\n",
       "    </tr>\n",
       "    <tr>\n",
       "      <th>8</th>\n",
       "      <td>LAS</td>\n",
       "      <td>1130</td>\n",
       "    </tr>\n",
       "    <tr>\n",
       "      <th>9</th>\n",
       "      <td>MSP</td>\n",
       "      <td>1030</td>\n",
       "    </tr>\n",
       "  </tbody>\n",
       "</table>\n",
       "</div>"
      ],
      "text/plain": [
       "  ORIGIN_AIRPORT  TOTAL_FLIGHTS\n",
       "0            ATL           2974\n",
       "1            ORD           2309\n",
       "2            DFW           1923\n",
       "3            DEN           1645\n",
       "4            LAX           1645\n",
       "5            PHX           1274\n",
       "6            IAH           1233\n",
       "7            SFO           1228\n",
       "8            LAS           1130\n",
       "9            MSP           1030"
      ]
     },
     "execution_count": 32,
     "metadata": {},
     "output_type": "execute_result"
    }
   ],
   "source": [
    "# renaming columns of df to merge it later\n",
    "airport_flight_count = airport_flight_count.rename(columns={'index': 'ORIGIN_AIRPORT', 'ORIGIN_AIRPORT': 'TOTAL_FLIGHTS'})\n",
    "most_flights = airport_flight_count.head(10)\n",
    "most_flights"
   ]
  },
  {
   "cell_type": "code",
   "execution_count": 33,
   "metadata": {},
   "outputs": [
    {
     "data": {
      "image/png": "[encoded data removed]",
      "text/plain": [
       "<Figure size 864x576 with 1 Axes>"
      ]
     },
     "metadata": {
      "needs_background": "light"
     },
     "output_type": "display_data"
    }
   ],
   "source": [
    "origin_airports = most_flights['ORIGIN_AIRPORT'].tolist()\n",
    "total_flights = most_flights['TOTAL_FLIGHTS']\n",
    "\n",
    "plt.figure(figsize=(12,8))\n",
    "plt.bar(origin_airports, total_flights, color = 'slategrey', width = 0.5)\n",
    "plt.ylabel(\"Number of Flights\", fontsize=16)\n",
    "plt.title(\"Busiest Airports based on Number of Flights\", fontsize=16)\n",
    "plt.tick_params(labelsize=16)\n",
    "plt.show()"
   ]
  },
  {
   "cell_type": "code",
   "execution_count": 34,
   "metadata": {},
   "outputs": [],
   "source": [
    "# renaming columns of df to merge it later\n",
    "airports_df = airports_df.rename(columns={'IATA_CODE': 'ORIGIN_AIRPORT'})"
   ]
  },
  {
   "cell_type": "code",
   "execution_count": 35,
   "metadata": {
    "scrolled": false
   },
   "outputs": [],
   "source": [
    "# merging 2 dataframes to see which airports have more departures (and flights)\n",
    "airport_flight_location = pd.merge(airport_flight_count, airports_df, on = \"ORIGIN_AIRPORT\")"
   ]
  },
  {
   "cell_type": "code",
   "execution_count": 36,
   "metadata": {
    "scrolled": true
   },
   "outputs": [
    {
     "data": {
      "text/html": [
       "<div>\n",
       "<style scoped>\n",
       "    .dataframe tbody tr th:only-of-type {\n",
       "        vertical-align: middle;\n",
       "    }\n",
       "\n",
       "    .dataframe tbody tr th {\n",
       "        vertical-align: top;\n",
       "    }\n",
       "\n",
       "    .dataframe thead th {\n",
       "        text-align: right;\n",
       "    }\n",
       "</style>\n",
       "<table border=\"1\" class=\"dataframe\">\n",
       "  <thead>\n",
       "    <tr style=\"text-align: right;\">\n",
       "      <th></th>\n",
       "      <th>ORIGIN_AIRPORT</th>\n",
       "      <th>TOTAL_FLIGHTS</th>\n",
       "      <th>AIRPORT</th>\n",
       "      <th>CITY</th>\n",
       "      <th>STATE</th>\n",
       "      <th>COUNTRY</th>\n",
       "      <th>LATITUDE</th>\n",
       "      <th>LONGITUDE</th>\n",
       "    </tr>\n",
       "  </thead>\n",
       "  <tbody>\n",
       "    <tr>\n",
       "      <th>0</th>\n",
       "      <td>ATL</td>\n",
       "      <td>2974</td>\n",
       "      <td>Hartsfield-Jackson Atlanta International Airport</td>\n",
       "      <td>Atlanta</td>\n",
       "      <td>GA</td>\n",
       "      <td>USA</td>\n",
       "      <td>33.64044</td>\n",
       "      <td>-84.42694</td>\n",
       "    </tr>\n",
       "    <tr>\n",
       "      <th>1</th>\n",
       "      <td>ORD</td>\n",
       "      <td>2309</td>\n",
       "      <td>Chicago O'Hare International Airport</td>\n",
       "      <td>Chicago</td>\n",
       "      <td>IL</td>\n",
       "      <td>USA</td>\n",
       "      <td>41.97960</td>\n",
       "      <td>-87.90446</td>\n",
       "    </tr>\n",
       "    <tr>\n",
       "      <th>2</th>\n",
       "      <td>DFW</td>\n",
       "      <td>1923</td>\n",
       "      <td>Dallas/Fort Worth International Airport</td>\n",
       "      <td>Dallas-Fort Worth</td>\n",
       "      <td>TX</td>\n",
       "      <td>USA</td>\n",
       "      <td>32.89595</td>\n",
       "      <td>-97.03720</td>\n",
       "    </tr>\n",
       "    <tr>\n",
       "      <th>3</th>\n",
       "      <td>DEN</td>\n",
       "      <td>1645</td>\n",
       "      <td>Denver International Airport</td>\n",
       "      <td>Denver</td>\n",
       "      <td>CO</td>\n",
       "      <td>USA</td>\n",
       "      <td>39.85841</td>\n",
       "      <td>-104.66700</td>\n",
       "    </tr>\n",
       "    <tr>\n",
       "      <th>4</th>\n",
       "      <td>LAX</td>\n",
       "      <td>1645</td>\n",
       "      <td>Los Angeles International Airport</td>\n",
       "      <td>Los Angeles</td>\n",
       "      <td>CA</td>\n",
       "      <td>USA</td>\n",
       "      <td>33.94254</td>\n",
       "      <td>-118.40807</td>\n",
       "    </tr>\n",
       "  </tbody>\n",
       "</table>\n",
       "</div>"
      ],
      "text/plain": [
       "  ORIGIN_AIRPORT  TOTAL_FLIGHTS  \\\n",
       "0            ATL           2974   \n",
       "1            ORD           2309   \n",
       "2            DFW           1923   \n",
       "3            DEN           1645   \n",
       "4            LAX           1645   \n",
       "\n",
       "                                            AIRPORT               CITY STATE  \\\n",
       "0  Hartsfield-Jackson Atlanta International Airport            Atlanta    GA   \n",
       "1              Chicago O'Hare International Airport            Chicago    IL   \n",
       "2           Dallas/Fort Worth International Airport  Dallas-Fort Worth    TX   \n",
       "3                      Denver International Airport             Denver    CO   \n",
       "4                 Los Angeles International Airport        Los Angeles    CA   \n",
       "\n",
       "  COUNTRY  LATITUDE  LONGITUDE  \n",
       "0     USA  33.64044  -84.42694  \n",
       "1     USA  41.97960  -87.90446  \n",
       "2     USA  32.89595  -97.03720  \n",
       "3     USA  39.85841 -104.66700  \n",
       "4     USA  33.94254 -118.40807  "
      ]
     },
     "execution_count": 36,
     "metadata": {},
     "output_type": "execute_result"
    }
   ],
   "source": [
    "airport_flight_location.head()"
   ]
  },
  {
   "cell_type": "markdown",
   "metadata": {},
   "source": [
    "## Section 5.3: <a class=\"anchor\" id=\"5_3\"></a> Airport Average Delay"
   ]
  },
  {
   "cell_type": "code",
   "execution_count": 37,
   "metadata": {},
   "outputs": [],
   "source": [
    "#merging airport_df to flights_df on origin_airport \n",
    "airports_delays = pd.merge(airports_df,flights_df[['ORIGIN_AIRPORT', 'MONTH', 'SCHEDULED_DEPARTURE',\n",
    "                                                   'DEPARTURE_TIME', 'DEPARTURE_DELAY', 'SCHEDULED_ARRIVAL', \n",
    "                                                   'ARRIVAL_TIME', 'ARRIVAL_DELAY']],on='ORIGIN_AIRPORT', \n",
    "                         how='left')"
   ]
  },
  {
   "cell_type": "code",
   "execution_count": 38,
   "metadata": {},
   "outputs": [],
   "source": [
    "grouped_airports = airports_delays[['ORIGIN_AIRPORT', 'DEPARTURE_DELAY', 'ARRIVAL_DELAY']] #dataframe of 3 columns \n",
    "grouped_airports = grouped_airports.groupby(['ORIGIN_AIRPORT']).mean() #getting the mean of departure and arrival delay\n",
    "                                                                       #grouped by airport of departure"
   ]
  },
  {
   "cell_type": "code",
   "execution_count": 39,
   "metadata": {
    "scrolled": true
   },
   "outputs": [],
   "source": [
    "grouped_airports2 = grouped_airports.reset_index().sort_values(by='DEPARTURE_DELAY', ascending=False)"
   ]
  },
  {
   "cell_type": "code",
   "execution_count": 40,
   "metadata": {
    "scrolled": false
   },
   "outputs": [
    {
     "data": {
      "image/png": "[encoded data removed]",
      "text/plain": [
       "<Figure size 720x504 with 1 Axes>"
      ]
     },
     "metadata": {
      "needs_background": "light"
     },
     "output_type": "display_data"
    }
   ],
   "source": [
    "fig = plt.figure(figsize = (10,7)) #dpi for higher resolution graph\n",
    "airports = grouped_airports2['ORIGIN_AIRPORT'].tolist()\n",
    "delay = list(grouped_airports2['DEPARTURE_DELAY'])\n",
    "arrival = list(grouped_airports2['ARRIVAL_DELAY'])\n",
    "\n",
    "\n",
    "X_axis = np.arange(len(airports[:20]))\n",
    "plt.bar(X_axis - 0.2, delay[:20] ,   0.4,   label = 'Departure Delay',   color = 'slategrey')\n",
    "plt.bar(X_axis + 0.2, arrival[:20] , 0.4, label = 'Arrival Delay',   color = 'lightsteelblue')\n",
    "  \n",
    "plt.xticks(X_axis, airports[:20])\n",
    "plt.xticks(rotation=45, ha=\"right\") #diagonal x ticks\n",
    "plt.ylabel(\"Mean Delay (in minutes)\")\n",
    "plt.title(\"Average Delay by Airport\")\n",
    "plt.legend() #legend in top left side\n",
    "plt.show()"
   ]
  },
  {
   "cell_type": "code",
   "execution_count": 41,
   "metadata": {
    "scrolled": false
   },
   "outputs": [
    {
     "data": {
      "text/html": [
       "<div>\n",
       "<style scoped>\n",
       "    .dataframe tbody tr th:only-of-type {\n",
       "        vertical-align: middle;\n",
       "    }\n",
       "\n",
       "    .dataframe tbody tr th {\n",
       "        vertical-align: top;\n",
       "    }\n",
       "\n",
       "    .dataframe thead th {\n",
       "        text-align: right;\n",
       "    }\n",
       "</style>\n",
       "<table border=\"1\" class=\"dataframe\">\n",
       "  <thead>\n",
       "    <tr style=\"text-align: right;\">\n",
       "      <th></th>\n",
       "      <th>ORIGIN_AIRPORT</th>\n",
       "      <th>TOTAL_FLIGHTS</th>\n",
       "      <th>AIRPORT</th>\n",
       "      <th>CITY</th>\n",
       "      <th>STATE</th>\n",
       "      <th>COUNTRY</th>\n",
       "      <th>LATITUDE</th>\n",
       "      <th>LONGITUDE</th>\n",
       "    </tr>\n",
       "  </thead>\n",
       "  <tbody>\n",
       "    <tr>\n",
       "      <th>252</th>\n",
       "      <td>PIB</td>\n",
       "      <td>6</td>\n",
       "      <td>Hattiesburg-Laurel Regional Airport</td>\n",
       "      <td>Hattiesburg-Laurel</td>\n",
       "      <td>MS</td>\n",
       "      <td>USA</td>\n",
       "      <td>31.46715</td>\n",
       "      <td>-89.33706</td>\n",
       "    </tr>\n",
       "  </tbody>\n",
       "</table>\n",
       "</div>"
      ],
      "text/plain": [
       "    ORIGIN_AIRPORT  TOTAL_FLIGHTS                              AIRPORT  \\\n",
       "252            PIB              6  Hattiesburg-Laurel Regional Airport   \n",
       "\n",
       "                   CITY STATE COUNTRY  LATITUDE  LONGITUDE  \n",
       "252  Hattiesburg-Laurel    MS     USA  31.46715  -89.33706  "
      ]
     },
     "execution_count": 41,
     "metadata": {},
     "output_type": "execute_result"
    }
   ],
   "source": [
    "airport_flight_location.loc[airport_flight_location['ORIGIN_AIRPORT'] == \"PIB\"]"
   ]
  },
  {
   "cell_type": "code",
   "execution_count": 42,
   "metadata": {
    "scrolled": true
   },
   "outputs": [
    {
     "data": {
      "text/html": [
       "<div>\n",
       "<style scoped>\n",
       "    .dataframe tbody tr th:only-of-type {\n",
       "        vertical-align: middle;\n",
       "    }\n",
       "\n",
       "    .dataframe tbody tr th {\n",
       "        vertical-align: top;\n",
       "    }\n",
       "\n",
       "    .dataframe thead th {\n",
       "        text-align: right;\n",
       "    }\n",
       "</style>\n",
       "<table border=\"1\" class=\"dataframe\">\n",
       "  <thead>\n",
       "    <tr style=\"text-align: right;\">\n",
       "      <th></th>\n",
       "      <th>ORIGIN_AIRPORT</th>\n",
       "      <th>TOTAL_FLIGHTS</th>\n",
       "      <th>AIRPORT</th>\n",
       "      <th>CITY</th>\n",
       "      <th>STATE</th>\n",
       "      <th>COUNTRY</th>\n",
       "      <th>LATITUDE</th>\n",
       "      <th>LONGITUDE</th>\n",
       "    </tr>\n",
       "  </thead>\n",
       "  <tbody>\n",
       "    <tr>\n",
       "      <th>284</th>\n",
       "      <td>IMT</td>\n",
       "      <td>4</td>\n",
       "      <td>Ford Airport</td>\n",
       "      <td>Iron Mountain/Kingsford</td>\n",
       "      <td>MI</td>\n",
       "      <td>USA</td>\n",
       "      <td>45.81835</td>\n",
       "      <td>-88.11454</td>\n",
       "    </tr>\n",
       "  </tbody>\n",
       "</table>\n",
       "</div>"
      ],
      "text/plain": [
       "    ORIGIN_AIRPORT  TOTAL_FLIGHTS       AIRPORT                     CITY  \\\n",
       "284            IMT              4  Ford Airport  Iron Mountain/Kingsford   \n",
       "\n",
       "    STATE COUNTRY  LATITUDE  LONGITUDE  \n",
       "284    MI     USA  45.81835  -88.11454  "
      ]
     },
     "execution_count": 42,
     "metadata": {},
     "output_type": "execute_result"
    }
   ],
   "source": [
    "airport_flight_location.loc[airport_flight_location['ORIGIN_AIRPORT'] == \"IMT\"]"
   ]
  },
  {
   "cell_type": "code",
   "execution_count": 43,
   "metadata": {},
   "outputs": [
    {
     "data": {
      "text/html": [
       "<div>\n",
       "<style scoped>\n",
       "    .dataframe tbody tr th:only-of-type {\n",
       "        vertical-align: middle;\n",
       "    }\n",
       "\n",
       "    .dataframe tbody tr th {\n",
       "        vertical-align: top;\n",
       "    }\n",
       "\n",
       "    .dataframe thead th {\n",
       "        text-align: right;\n",
       "    }\n",
       "</style>\n",
       "<table border=\"1\" class=\"dataframe\">\n",
       "  <thead>\n",
       "    <tr style=\"text-align: right;\">\n",
       "      <th></th>\n",
       "      <th>ORIGIN_AIRPORT</th>\n",
       "      <th>TOTAL_FLIGHTS</th>\n",
       "      <th>AIRPORT</th>\n",
       "      <th>CITY</th>\n",
       "      <th>STATE</th>\n",
       "      <th>COUNTRY</th>\n",
       "      <th>LATITUDE</th>\n",
       "      <th>LONGITUDE</th>\n",
       "    </tr>\n",
       "  </thead>\n",
       "  <tbody>\n",
       "    <tr>\n",
       "      <th>287</th>\n",
       "      <td>MVY</td>\n",
       "      <td>3</td>\n",
       "      <td>Martha's Vineyard Airport</td>\n",
       "      <td>Marthas Vineyard</td>\n",
       "      <td>MA</td>\n",
       "      <td>USA</td>\n",
       "      <td>41.39303</td>\n",
       "      <td>-70.61433</td>\n",
       "    </tr>\n",
       "  </tbody>\n",
       "</table>\n",
       "</div>"
      ],
      "text/plain": [
       "    ORIGIN_AIRPORT  TOTAL_FLIGHTS                    AIRPORT  \\\n",
       "287            MVY              3  Martha's Vineyard Airport   \n",
       "\n",
       "                 CITY STATE COUNTRY  LATITUDE  LONGITUDE  \n",
       "287  Marthas Vineyard    MA     USA  41.39303  -70.61433  "
      ]
     },
     "execution_count": 43,
     "metadata": {},
     "output_type": "execute_result"
    }
   ],
   "source": [
    "airport_flight_location.loc[airport_flight_location['ORIGIN_AIRPORT'] == \"MVY\"]"
   ]
  },
  {
   "cell_type": "markdown",
   "metadata": {},
   "source": [
    "From the graph above we can observe that PIB or Hattiesburg-Laurel Regional Airport in Minnesota has the most delays, departure and arrival delays. On average, the departures and arrivals of flights are late by a little more than 175 minutes or almost 3 hours. When we look at the number of departure flights of that airport which is 6, we can conclude that since it is a small airport with not many flights, there might be underlining issues with organization, time management, shortage of employees and technologies because of budget constraints and also bad management."
   ]
  },
  {
   "cell_type": "markdown",
   "metadata": {},
   "source": [
    "## Section 5.4: <a class=\"anchor\" id=\"5_4\"></a> Busiest Airports Average Delay"
   ]
  },
  {
   "cell_type": "code",
   "execution_count": 44,
   "metadata": {
    "scrolled": true
   },
   "outputs": [
    {
     "data": {
      "text/html": [
       "<div>\n",
       "<style scoped>\n",
       "    .dataframe tbody tr th:only-of-type {\n",
       "        vertical-align: middle;\n",
       "    }\n",
       "\n",
       "    .dataframe tbody tr th {\n",
       "        vertical-align: top;\n",
       "    }\n",
       "\n",
       "    .dataframe thead th {\n",
       "        text-align: right;\n",
       "    }\n",
       "</style>\n",
       "<table border=\"1\" class=\"dataframe\">\n",
       "  <thead>\n",
       "    <tr style=\"text-align: right;\">\n",
       "      <th></th>\n",
       "      <th>ORIGIN_AIRPORT</th>\n",
       "      <th>TOTAL_FLIGHTS</th>\n",
       "      <th>AIRPORT</th>\n",
       "      <th>CITY</th>\n",
       "      <th>STATE</th>\n",
       "      <th>COUNTRY</th>\n",
       "      <th>LATITUDE</th>\n",
       "      <th>LONGITUDE</th>\n",
       "      <th>DEPARTURE_DELAY</th>\n",
       "      <th>ARRIVAL_DELAY</th>\n",
       "    </tr>\n",
       "  </thead>\n",
       "  <tbody>\n",
       "    <tr>\n",
       "      <th>0</th>\n",
       "      <td>ATL</td>\n",
       "      <td>2974</td>\n",
       "      <td>Hartsfield-Jackson Atlanta International Airport</td>\n",
       "      <td>Atlanta</td>\n",
       "      <td>GA</td>\n",
       "      <td>USA</td>\n",
       "      <td>33.64044</td>\n",
       "      <td>-84.42694</td>\n",
       "      <td>9.094822</td>\n",
       "      <td>3.147613</td>\n",
       "    </tr>\n",
       "    <tr>\n",
       "      <th>1</th>\n",
       "      <td>ORD</td>\n",
       "      <td>2309</td>\n",
       "      <td>Chicago O'Hare International Airport</td>\n",
       "      <td>Chicago</td>\n",
       "      <td>IL</td>\n",
       "      <td>USA</td>\n",
       "      <td>41.97960</td>\n",
       "      <td>-87.90446</td>\n",
       "      <td>13.507146</td>\n",
       "      <td>7.877436</td>\n",
       "    </tr>\n",
       "    <tr>\n",
       "      <th>2</th>\n",
       "      <td>DFW</td>\n",
       "      <td>1923</td>\n",
       "      <td>Dallas/Fort Worth International Airport</td>\n",
       "      <td>Dallas-Fort Worth</td>\n",
       "      <td>TX</td>\n",
       "      <td>USA</td>\n",
       "      <td>32.89595</td>\n",
       "      <td>-97.03720</td>\n",
       "      <td>9.614665</td>\n",
       "      <td>5.033281</td>\n",
       "    </tr>\n",
       "    <tr>\n",
       "      <th>3</th>\n",
       "      <td>DEN</td>\n",
       "      <td>1645</td>\n",
       "      <td>Denver International Airport</td>\n",
       "      <td>Denver</td>\n",
       "      <td>CO</td>\n",
       "      <td>USA</td>\n",
       "      <td>39.85841</td>\n",
       "      <td>-104.66700</td>\n",
       "      <td>12.894833</td>\n",
       "      <td>7.954407</td>\n",
       "    </tr>\n",
       "    <tr>\n",
       "      <th>4</th>\n",
       "      <td>LAX</td>\n",
       "      <td>1645</td>\n",
       "      <td>Los Angeles International Airport</td>\n",
       "      <td>Los Angeles</td>\n",
       "      <td>CA</td>\n",
       "      <td>USA</td>\n",
       "      <td>33.94254</td>\n",
       "      <td>-118.40807</td>\n",
       "      <td>11.286322</td>\n",
       "      <td>6.765957</td>\n",
       "    </tr>\n",
       "    <tr>\n",
       "      <th>5</th>\n",
       "      <td>PHX</td>\n",
       "      <td>1274</td>\n",
       "      <td>Phoenix Sky Harbor International Airport</td>\n",
       "      <td>Phoenix</td>\n",
       "      <td>AZ</td>\n",
       "      <td>USA</td>\n",
       "      <td>33.43417</td>\n",
       "      <td>-112.00806</td>\n",
       "      <td>8.969388</td>\n",
       "      <td>4.681319</td>\n",
       "    </tr>\n",
       "    <tr>\n",
       "      <th>6</th>\n",
       "      <td>IAH</td>\n",
       "      <td>1233</td>\n",
       "      <td>George Bush Intercontinental Airport</td>\n",
       "      <td>Houston</td>\n",
       "      <td>TX</td>\n",
       "      <td>USA</td>\n",
       "      <td>29.98047</td>\n",
       "      <td>-95.33972</td>\n",
       "      <td>10.470397</td>\n",
       "      <td>6.322790</td>\n",
       "    </tr>\n",
       "    <tr>\n",
       "      <th>7</th>\n",
       "      <td>SFO</td>\n",
       "      <td>1228</td>\n",
       "      <td>San Francisco International Airport</td>\n",
       "      <td>San Francisco</td>\n",
       "      <td>CA</td>\n",
       "      <td>USA</td>\n",
       "      <td>37.61900</td>\n",
       "      <td>-122.37484</td>\n",
       "      <td>11.790717</td>\n",
       "      <td>6.408795</td>\n",
       "    </tr>\n",
       "    <tr>\n",
       "      <th>8</th>\n",
       "      <td>LAS</td>\n",
       "      <td>1130</td>\n",
       "      <td>McCarran International Airport</td>\n",
       "      <td>Las Vegas</td>\n",
       "      <td>NV</td>\n",
       "      <td>USA</td>\n",
       "      <td>36.08036</td>\n",
       "      <td>-115.15233</td>\n",
       "      <td>11.529204</td>\n",
       "      <td>6.638938</td>\n",
       "    </tr>\n",
       "    <tr>\n",
       "      <th>9</th>\n",
       "      <td>MSP</td>\n",
       "      <td>1030</td>\n",
       "      <td>Minneapolis-Saint Paul International Airport</td>\n",
       "      <td>Minneapolis</td>\n",
       "      <td>MN</td>\n",
       "      <td>USA</td>\n",
       "      <td>44.88055</td>\n",
       "      <td>-93.21692</td>\n",
       "      <td>6.461165</td>\n",
       "      <td>1.766990</td>\n",
       "    </tr>\n",
       "  </tbody>\n",
       "</table>\n",
       "</div>"
      ],
      "text/plain": [
       "  ORIGIN_AIRPORT  TOTAL_FLIGHTS  \\\n",
       "0            ATL           2974   \n",
       "1            ORD           2309   \n",
       "2            DFW           1923   \n",
       "3            DEN           1645   \n",
       "4            LAX           1645   \n",
       "5            PHX           1274   \n",
       "6            IAH           1233   \n",
       "7            SFO           1228   \n",
       "8            LAS           1130   \n",
       "9            MSP           1030   \n",
       "\n",
       "                                            AIRPORT               CITY STATE  \\\n",
       "0  Hartsfield-Jackson Atlanta International Airport            Atlanta    GA   \n",
       "1              Chicago O'Hare International Airport            Chicago    IL   \n",
       "2           Dallas/Fort Worth International Airport  Dallas-Fort Worth    TX   \n",
       "3                      Denver International Airport             Denver    CO   \n",
       "4                 Los Angeles International Airport        Los Angeles    CA   \n",
       "5          Phoenix Sky Harbor International Airport            Phoenix    AZ   \n",
       "6              George Bush Intercontinental Airport            Houston    TX   \n",
       "7               San Francisco International Airport      San Francisco    CA   \n",
       "8                    McCarran International Airport          Las Vegas    NV   \n",
       "9      Minneapolis-Saint Paul International Airport        Minneapolis    MN   \n",
       "\n",
       "  COUNTRY  LATITUDE  LONGITUDE  DEPARTURE_DELAY  ARRIVAL_DELAY  \n",
       "0     USA  33.64044  -84.42694         9.094822       3.147613  \n",
       "1     USA  41.97960  -87.90446        13.507146       7.877436  \n",
       "2     USA  32.89595  -97.03720         9.614665       5.033281  \n",
       "3     USA  39.85841 -104.66700        12.894833       7.954407  \n",
       "4     USA  33.94254 -118.40807        11.286322       6.765957  \n",
       "5     USA  33.43417 -112.00806         8.969388       4.681319  \n",
       "6     USA  29.98047  -95.33972        10.470397       6.322790  \n",
       "7     USA  37.61900 -122.37484        11.790717       6.408795  \n",
       "8     USA  36.08036 -115.15233        11.529204       6.638938  \n",
       "9     USA  44.88055  -93.21692         6.461165       1.766990  "
      ]
     },
     "execution_count": 44,
     "metadata": {},
     "output_type": "execute_result"
    }
   ],
   "source": [
    "airports_delayed_flights = pd.merge(airport_flight_location, grouped_airports2 ,on='ORIGIN_AIRPORT', how='left')\n",
    "busiest_airports = airports_delayed_flights.head(10)\n",
    "busiest_airports"
   ]
  },
  {
   "cell_type": "code",
   "execution_count": 45,
   "metadata": {
    "scrolled": false
   },
   "outputs": [
    {
     "data": {
      "image/png": "[encoded data removed]",
      "text/plain": [
       "<Figure size 720x504 with 1 Axes>"
      ]
     },
     "metadata": {
      "needs_background": "light"
     },
     "output_type": "display_data"
    }
   ],
   "source": [
    "fig = plt.figure(figsize = (10,7)) #dpi for higher resolution graph\n",
    "airports = busiest_airports['ORIGIN_AIRPORT'].tolist()\n",
    "delay = list(busiest_airports['DEPARTURE_DELAY'])\n",
    "arrival = list(busiest_airports['ARRIVAL_DELAY'])\n",
    "\n",
    "\n",
    "#vals = pd.concat([busiest_airports.ORIGIN_AIRPORT, busiest_airports.TOTAL_FLIGHTS], axis=1)\n",
    "#vals = vals.stack().reset_index(level=[0,1], drop=True)\n",
    "\n",
    "X_axis = np.arange(len(airports[:20]))\n",
    "plt.bar(X_axis - 0.2, delay[:20] ,   0.4,   label = 'Departure Delay',   color = 'slategrey')\n",
    "plt.bar(X_axis + 0.2, arrival[:20] , 0.4, label = 'Arrival Delay',   color = 'lightsteelblue')\n",
    "  \n",
    "plt.xticks(X_axis, airports[:20])\n",
    "plt.xticks(rotation=0) #ha=\"right\") #diagonal x ticks\n",
    "plt.ylabel(\"Mean Delay (in minutes)\")\n",
    "plt.title(\"Average Delays in Busiest Airport\")\n",
    "plt.legend() #legend in top left side\n",
    "plt.show()\n",
    "\n",
    "#for idx, p in enumerate(ax.patches):\n",
    " #   height = p.get_height()\n",
    "  #  ax.text(p.get_x()+p.get_width()/2.,\n",
    "   #         height + height*.01,\n",
    "    #        vals[idx],\n",
    "     #       ha=\"center\")"
   ]
  },
  {
   "cell_type": "markdown",
   "metadata": {},
   "source": [
    "From the graph above, which shows us the average delays of the 10 airports with the most flights in the US, we can see that flights delays during departure are much less than small airports, at around 11 minutes on average. On the other hand, arrival delays are even less, averaging around 5 minutes with MSP or \"Minneapolis-Saint Paul International Airport\" having less than 2 minutes of arrival delay on average."
   ]
  },
  {
   "cell_type": "markdown",
   "metadata": {},
   "source": [
    "## Section 5.5: <a class=\"anchor\" id=\"5_5\"></a>Airline Average Delay on Destination Airport"
   ]
  },
  {
   "cell_type": "code",
   "execution_count": 46,
   "metadata": {
    "scrolled": false
   },
   "outputs": [
    {
     "data": {
      "image/png": "[encoded data removed]",
      "text/plain": [
       "<Figure size 720x576 with 2 Axes>"
      ]
     },
     "metadata": {},
     "output_type": "display_data"
    },
    {
     "data": {
      "text/plain": [
       "<Figure size 432x288 with 0 Axes>"
      ]
     },
     "metadata": {},
     "output_type": "display_data"
    }
   ],
   "source": [
    "from matplotlib.colors import ListedColormap, LinearSegmentedColormap #importing necessary packages\n",
    "#grouping airports by destination airpot flights\n",
    "destination_airports = flights_df['DESTINATION_AIRPORT'].groupby(flights_df[\"DESTINATION_AIRPORT\"]).count().sort_values(ascending=False).iloc[:11].keys().tolist()\n",
    "map = flights_df[['AIRLINE','DESTINATION_AIRPORT','ARRIVAL_DELAY']]\n",
    "\n",
    "frames = list()\n",
    "for airport in destination_airports:\n",
    "        frames.append(map.loc[map[\"DESTINATION_AIRPORT\"] == airport])\n",
    "map = pd.concat(frames)\n",
    "\n",
    "airline_destination_delay = pd.DataFrame()\n",
    "for airlines in map[\"AIRLINE\"].unique():\n",
    "        temp = map.loc[map[\"AIRLINE\"] == airlines]\n",
    "        temparature = temp[\"ARRIVAL_DELAY\"].groupby(temp[\"DESTINATION_AIRPORT\"]).mean()\n",
    "        airline_destination_delay[airlines] = temparature\n",
    "\n",
    "sns.set(context = \"paper\")\n",
    "plt.subplots(figsize = (10,8))\n",
    "plt.title(\"Airline Average Delay on Destination Airport\")\n",
    "sns.heatmap(airline_destination_delay, linewidths = 0.01, cmap = LinearSegmentedColormap.from_list('rg',[\"aliceblue\", \"lightsteelblue\", \"slategrey\"], N = 256),robust=True,yticklabels=destination_airports)\n",
    "plt.ylabel(\"Destination Airport\")\n",
    "plt.show()\n",
    "plt.savefig('Mean Delay for Airline Vs. Destination Airports.png')"
   ]
  },
  {
   "cell_type": "markdown",
   "metadata": {},
   "source": [
    "## Section 5.6: <a class=\"anchor\" id=\"5_6\"></a>Total Month Flights"
   ]
  },
  {
   "cell_type": "code",
   "execution_count": 47,
   "metadata": {
    "scrolled": false
   },
   "outputs": [
    {
     "data": {
      "text/html": [
       "<div>\n",
       "<style scoped>\n",
       "    .dataframe tbody tr th:only-of-type {\n",
       "        vertical-align: middle;\n",
       "    }\n",
       "\n",
       "    .dataframe tbody tr th {\n",
       "        vertical-align: top;\n",
       "    }\n",
       "\n",
       "    .dataframe thead th {\n",
       "        text-align: right;\n",
       "    }\n",
       "</style>\n",
       "<table border=\"1\" class=\"dataframe\">\n",
       "  <thead>\n",
       "    <tr style=\"text-align: right;\">\n",
       "      <th></th>\n",
       "      <th>MONTH</th>\n",
       "      <th>TOTAL_FLIGHTS</th>\n",
       "    </tr>\n",
       "  </thead>\n",
       "  <tbody>\n",
       "    <tr>\n",
       "      <th>9</th>\n",
       "      <td>1</td>\n",
       "      <td>3889</td>\n",
       "    </tr>\n",
       "    <tr>\n",
       "      <th>10</th>\n",
       "      <td>2</td>\n",
       "      <td>3615</td>\n",
       "    </tr>\n",
       "    <tr>\n",
       "      <th>2</th>\n",
       "      <td>3</td>\n",
       "      <td>4241</td>\n",
       "    </tr>\n",
       "    <tr>\n",
       "      <th>6</th>\n",
       "      <td>4</td>\n",
       "      <td>4023</td>\n",
       "    </tr>\n",
       "    <tr>\n",
       "      <th>5</th>\n",
       "      <td>5</td>\n",
       "      <td>4091</td>\n",
       "    </tr>\n",
       "    <tr>\n",
       "      <th>4</th>\n",
       "      <td>6</td>\n",
       "      <td>4124</td>\n",
       "    </tr>\n",
       "    <tr>\n",
       "      <th>0</th>\n",
       "      <td>7</td>\n",
       "      <td>4471</td>\n",
       "    </tr>\n",
       "    <tr>\n",
       "      <th>1</th>\n",
       "      <td>8</td>\n",
       "      <td>4381</td>\n",
       "    </tr>\n",
       "    <tr>\n",
       "      <th>8</th>\n",
       "      <td>9</td>\n",
       "      <td>3936</td>\n",
       "    </tr>\n",
       "    <tr>\n",
       "      <th>7</th>\n",
       "      <td>11</td>\n",
       "      <td>3955</td>\n",
       "    </tr>\n",
       "    <tr>\n",
       "      <th>3</th>\n",
       "      <td>12</td>\n",
       "      <td>4139</td>\n",
       "    </tr>\n",
       "  </tbody>\n",
       "</table>\n",
       "</div>"
      ],
      "text/plain": [
       "    MONTH  TOTAL_FLIGHTS\n",
       "9       1           3889\n",
       "10      2           3615\n",
       "2       3           4241\n",
       "6       4           4023\n",
       "5       5           4091\n",
       "4       6           4124\n",
       "0       7           4471\n",
       "1       8           4381\n",
       "8       9           3936\n",
       "7      11           3955\n",
       "3      12           4139"
      ]
     },
     "execution_count": 47,
     "metadata": {},
     "output_type": "execute_result"
    }
   ],
   "source": [
    "month_flights = flights_df[['MONTH']] #dataframe of 3 columns \n",
    "month_flights = month_flights.value_counts().reset_index().sort_values(by = \"MONTH\")\n",
    "month_flights = month_flights.rename(columns = {0: 'TOTAL_FLIGHTS'})\n",
    "month_flights"
   ]
  },
  {
   "cell_type": "code",
   "execution_count": 48,
   "metadata": {
    "scrolled": false
   },
   "outputs": [
    {
     "data": {
      "image/png": "[encoded data removed]",
      "text/plain": [
       "<Figure size 864x576 with 1 Axes>"
      ]
     },
     "metadata": {},
     "output_type": "display_data"
    }
   ],
   "source": [
    "months = month_flights['MONTH'].tolist()\n",
    "flights = month_flights['TOTAL_FLIGHTS']\n",
    "\n",
    "plt.figure(figsize=(12,8))\n",
    "plt.plot(months, flights, color = 'slategrey', linewidth = 3, label = \"month flights\")\n",
    "#plt.plot(months_delays, flights_delays, color = 'lightsteelblue', linewidth = 3, label = \"month delays\")\n",
    "plt.ylabel(\"Number of Flights\", fontsize=16)\n",
    "plt.title(\"Number of Flights per month\", fontsize=16)\n",
    "plt.tick_params(labelsize=16)\n",
    "plt.show()"
   ]
  },
  {
   "cell_type": "markdown",
   "metadata": {},
   "source": [
    "## Section 5.7: <a class=\"anchor\" id=\"5_7\"></a>Average Month Delay"
   ]
  },
  {
   "cell_type": "code",
   "execution_count": 49,
   "metadata": {
    "scrolled": false
   },
   "outputs": [
    {
     "data": {
      "text/html": [
       "<div>\n",
       "<style scoped>\n",
       "    .dataframe tbody tr th:only-of-type {\n",
       "        vertical-align: middle;\n",
       "    }\n",
       "\n",
       "    .dataframe tbody tr th {\n",
       "        vertical-align: top;\n",
       "    }\n",
       "\n",
       "    .dataframe thead th {\n",
       "        text-align: right;\n",
       "    }\n",
       "</style>\n",
       "<table border=\"1\" class=\"dataframe\">\n",
       "  <thead>\n",
       "    <tr style=\"text-align: right;\">\n",
       "      <th></th>\n",
       "      <th>MONTH</th>\n",
       "      <th>ARRIVAL_DELAY</th>\n",
       "    </tr>\n",
       "  </thead>\n",
       "  <tbody>\n",
       "    <tr>\n",
       "      <th>0</th>\n",
       "      <td>1</td>\n",
       "      <td>6.771149</td>\n",
       "    </tr>\n",
       "    <tr>\n",
       "      <th>1</th>\n",
       "      <td>2</td>\n",
       "      <td>7.356570</td>\n",
       "    </tr>\n",
       "    <tr>\n",
       "      <th>2</th>\n",
       "      <td>3</td>\n",
       "      <td>4.424664</td>\n",
       "    </tr>\n",
       "    <tr>\n",
       "      <th>3</th>\n",
       "      <td>4</td>\n",
       "      <td>3.048223</td>\n",
       "    </tr>\n",
       "    <tr>\n",
       "      <th>4</th>\n",
       "      <td>5</td>\n",
       "      <td>4.426302</td>\n",
       "    </tr>\n",
       "    <tr>\n",
       "      <th>5</th>\n",
       "      <td>6</td>\n",
       "      <td>9.744665</td>\n",
       "    </tr>\n",
       "    <tr>\n",
       "      <th>6</th>\n",
       "      <td>7</td>\n",
       "      <td>6.457616</td>\n",
       "    </tr>\n",
       "    <tr>\n",
       "      <th>7</th>\n",
       "      <td>8</td>\n",
       "      <td>5.223465</td>\n",
       "    </tr>\n",
       "    <tr>\n",
       "      <th>8</th>\n",
       "      <td>9</td>\n",
       "      <td>-1.008130</td>\n",
       "    </tr>\n",
       "    <tr>\n",
       "      <th>9</th>\n",
       "      <td>11</td>\n",
       "      <td>1.734260</td>\n",
       "    </tr>\n",
       "    <tr>\n",
       "      <th>10</th>\n",
       "      <td>12</td>\n",
       "      <td>5.855521</td>\n",
       "    </tr>\n",
       "  </tbody>\n",
       "</table>\n",
       "</div>"
      ],
      "text/plain": [
       "    MONTH  ARRIVAL_DELAY\n",
       "0       1       6.771149\n",
       "1       2       7.356570\n",
       "2       3       4.424664\n",
       "3       4       3.048223\n",
       "4       5       4.426302\n",
       "5       6       9.744665\n",
       "6       7       6.457616\n",
       "7       8       5.223465\n",
       "8       9      -1.008130\n",
       "9      11       1.734260\n",
       "10     12       5.855521"
      ]
     },
     "execution_count": 49,
     "metadata": {},
     "output_type": "execute_result"
    }
   ],
   "source": [
    "month_delays = flights_df[['MONTH', 'ARRIVAL_DELAY']] #dataframe of 3 columns \n",
    "#getting the mean of departure and arrival delay grouped by airline and sorted by departure delay\n",
    "month_delays = month_delays.groupby(['MONTH']).mean().reset_index().sort_values(by = \"MONTH\")\n",
    "month_delays"
   ]
  },
  {
   "cell_type": "code",
   "execution_count": 50,
   "metadata": {},
   "outputs": [],
   "source": [
    "month_delays['MONTH'] = month_delays['MONTH'].replace(1, 'Jan')\n",
    "month_delays['MONTH'] = month_delays['MONTH'].replace(2, 'Feb')\n",
    "month_delays['MONTH'] = month_delays['MONTH'].replace(3, 'Mar')\n",
    "month_delays['MONTH'] = month_delays['MONTH'].replace(4, 'Apr')\n",
    "month_delays['MONTH'] = month_delays['MONTH'].replace(5, 'May')\n",
    "month_delays['MONTH'] = month_delays['MONTH'].replace(6, 'Jun')\n",
    "month_delays['MONTH'] = month_delays['MONTH'].replace(7, 'Jul')\n",
    "month_delays['MONTH'] = month_delays['MONTH'].replace(8, 'Aug')\n",
    "month_delays['MONTH'] = month_delays['MONTH'].replace(9, 'Sep')\n",
    "month_delays['MONTH'] = month_delays['MONTH'].replace(11, 'Nov')\n",
    "month_delays['MONTH'] = month_delays['MONTH'].replace(12, 'Dec')"
   ]
  },
  {
   "cell_type": "code",
   "execution_count": 51,
   "metadata": {},
   "outputs": [
    {
     "data": {
      "image/png": "[encoded data removed]",
      "text/plain": [
       "<Figure size 864x576 with 1 Axes>"
      ]
     },
     "metadata": {},
     "output_type": "display_data"
    }
   ],
   "source": [
    "months_delays = month_delays['MONTH'].tolist()\n",
    "flights_delays = month_delays['ARRIVAL_DELAY']\n",
    "\n",
    "plt.figure(figsize=(12,8))\n",
    "plt.plot(months_delays, flights_delays, color = 'lightsteelblue', linewidth = 3, label = \"month delays\")\n",
    "plt.ylabel(\"Delay in Minutes\", fontsize=16)\n",
    "plt.title(\"Average Delay of Flights per month\", fontsize=16)\n",
    "plt.tick_params(labelsize=16)\n",
    "plt.show()"
   ]
  },
  {
   "cell_type": "markdown",
   "metadata": {},
   "source": [
    "# Section 6: <a class=\"anchor\" id=\"section6\"></a> Prepare the data to better expose the underlying data patterns to Machine Learning algorithms"
   ]
  },
  {
   "cell_type": "markdown",
   "metadata": {},
   "source": [
    "## Section 6.1: <a class=\"anchor\" id=\"6_1\"></a> Handling Categorical Variables "
   ]
  },
  {
   "cell_type": "code",
   "execution_count": 52,
   "metadata": {},
   "outputs": [],
   "source": [
    "dummied_variables = [\"AIRLINE\", \"DESTINATION_AIRPORT\", \"ORIGIN_AIRPORT\"] #controlling for categorical variables\n",
    "\n",
    "flights_df_dummied = pd.get_dummies(flights_df, columns = dummied_variables, drop_first = True)"
   ]
  },
  {
   "cell_type": "code",
   "execution_count": 53,
   "metadata": {
    "scrolled": true
   },
   "outputs": [
    {
     "data": {
      "text/html": [
       "<div>\n",
       "<style scoped>\n",
       "    .dataframe tbody tr th:only-of-type {\n",
       "        vertical-align: middle;\n",
       "    }\n",
       "\n",
       "    .dataframe tbody tr th {\n",
       "        vertical-align: top;\n",
       "    }\n",
       "\n",
       "    .dataframe thead th {\n",
       "        text-align: right;\n",
       "    }\n",
       "</style>\n",
       "<table border=\"1\" class=\"dataframe\">\n",
       "  <thead>\n",
       "    <tr style=\"text-align: right;\">\n",
       "      <th></th>\n",
       "      <th>MONTH</th>\n",
       "      <th>SCHEDULED_DEPARTURE</th>\n",
       "      <th>DEPARTURE_TIME</th>\n",
       "      <th>DEPARTURE_DELAY</th>\n",
       "      <th>SCHEDULED_ARRIVAL</th>\n",
       "      <th>ARRIVAL_TIME</th>\n",
       "      <th>ARRIVAL_DELAY</th>\n",
       "      <th>SCHEDULED_TIME</th>\n",
       "      <th>ELAPSED_TIME</th>\n",
       "      <th>AIR_TIME</th>\n",
       "      <th>...</th>\n",
       "      <th>ORIGIN_AIRPORT_TYR</th>\n",
       "      <th>ORIGIN_AIRPORT_TYS</th>\n",
       "      <th>ORIGIN_AIRPORT_UST</th>\n",
       "      <th>ORIGIN_AIRPORT_VLD</th>\n",
       "      <th>ORIGIN_AIRPORT_VPS</th>\n",
       "      <th>ORIGIN_AIRPORT_WRG</th>\n",
       "      <th>ORIGIN_AIRPORT_WYS</th>\n",
       "      <th>ORIGIN_AIRPORT_XNA</th>\n",
       "      <th>ORIGIN_AIRPORT_YAK</th>\n",
       "      <th>ORIGIN_AIRPORT_YUM</th>\n",
       "    </tr>\n",
       "  </thead>\n",
       "  <tbody>\n",
       "    <tr>\n",
       "      <th>0</th>\n",
       "      <td>1</td>\n",
       "      <td>533</td>\n",
       "      <td>540.0</td>\n",
       "      <td>7</td>\n",
       "      <td>720</td>\n",
       "      <td>723.0</td>\n",
       "      <td>3</td>\n",
       "      <td>167</td>\n",
       "      <td>163</td>\n",
       "      <td>142</td>\n",
       "      <td>...</td>\n",
       "      <td>0</td>\n",
       "      <td>0</td>\n",
       "      <td>0</td>\n",
       "      <td>0</td>\n",
       "      <td>0</td>\n",
       "      <td>0</td>\n",
       "      <td>0</td>\n",
       "      <td>0</td>\n",
       "      <td>0</td>\n",
       "      <td>0</td>\n",
       "    </tr>\n",
       "    <tr>\n",
       "      <th>1</th>\n",
       "      <td>1</td>\n",
       "      <td>550</td>\n",
       "      <td>550.0</td>\n",
       "      <td>0</td>\n",
       "      <td>649</td>\n",
       "      <td>649.0</td>\n",
       "      <td>0</td>\n",
       "      <td>59</td>\n",
       "      <td>59</td>\n",
       "      <td>28</td>\n",
       "      <td>...</td>\n",
       "      <td>0</td>\n",
       "      <td>0</td>\n",
       "      <td>0</td>\n",
       "      <td>0</td>\n",
       "      <td>0</td>\n",
       "      <td>0</td>\n",
       "      <td>0</td>\n",
       "      <td>0</td>\n",
       "      <td>0</td>\n",
       "      <td>0</td>\n",
       "    </tr>\n",
       "    <tr>\n",
       "      <th>2</th>\n",
       "      <td>1</td>\n",
       "      <td>600</td>\n",
       "      <td>550.0</td>\n",
       "      <td>-10</td>\n",
       "      <td>829</td>\n",
       "      <td>822.0</td>\n",
       "      <td>-7</td>\n",
       "      <td>209</td>\n",
       "      <td>212</td>\n",
       "      <td>196</td>\n",
       "      <td>...</td>\n",
       "      <td>0</td>\n",
       "      <td>0</td>\n",
       "      <td>0</td>\n",
       "      <td>0</td>\n",
       "      <td>0</td>\n",
       "      <td>0</td>\n",
       "      <td>0</td>\n",
       "      <td>0</td>\n",
       "      <td>0</td>\n",
       "      <td>0</td>\n",
       "    </tr>\n",
       "    <tr>\n",
       "      <th>3</th>\n",
       "      <td>1</td>\n",
       "      <td>600</td>\n",
       "      <td>555.0</td>\n",
       "      <td>-5</td>\n",
       "      <td>753</td>\n",
       "      <td>749.0</td>\n",
       "      <td>-4</td>\n",
       "      <td>173</td>\n",
       "      <td>174</td>\n",
       "      <td>153</td>\n",
       "      <td>...</td>\n",
       "      <td>0</td>\n",
       "      <td>0</td>\n",
       "      <td>0</td>\n",
       "      <td>0</td>\n",
       "      <td>0</td>\n",
       "      <td>0</td>\n",
       "      <td>0</td>\n",
       "      <td>0</td>\n",
       "      <td>0</td>\n",
       "      <td>0</td>\n",
       "    </tr>\n",
       "    <tr>\n",
       "      <th>4</th>\n",
       "      <td>1</td>\n",
       "      <td>600</td>\n",
       "      <td>555.0</td>\n",
       "      <td>-5</td>\n",
       "      <td>735</td>\n",
       "      <td>738.0</td>\n",
       "      <td>3</td>\n",
       "      <td>95</td>\n",
       "      <td>103</td>\n",
       "      <td>64</td>\n",
       "      <td>...</td>\n",
       "      <td>0</td>\n",
       "      <td>0</td>\n",
       "      <td>0</td>\n",
       "      <td>0</td>\n",
       "      <td>0</td>\n",
       "      <td>0</td>\n",
       "      <td>0</td>\n",
       "      <td>0</td>\n",
       "      <td>0</td>\n",
       "      <td>0</td>\n",
       "    </tr>\n",
       "  </tbody>\n",
       "</table>\n",
       "<p>5 rows × 656 columns</p>\n",
       "</div>"
      ],
      "text/plain": [
       "   MONTH  SCHEDULED_DEPARTURE DEPARTURE_TIME  DEPARTURE_DELAY  \\\n",
       "0      1                  533          540.0                7   \n",
       "1      1                  550          550.0                0   \n",
       "2      1                  600          550.0              -10   \n",
       "3      1                  600          555.0               -5   \n",
       "4      1                  600          555.0               -5   \n",
       "\n",
       "   SCHEDULED_ARRIVAL ARRIVAL_TIME  ARRIVAL_DELAY  SCHEDULED_TIME  \\\n",
       "0                720        723.0              3             167   \n",
       "1                649        649.0              0              59   \n",
       "2                829        822.0             -7             209   \n",
       "3                753        749.0             -4             173   \n",
       "4                735        738.0              3              95   \n",
       "\n",
       "   ELAPSED_TIME  AIR_TIME  ...  ORIGIN_AIRPORT_TYR  ORIGIN_AIRPORT_TYS  \\\n",
       "0           163       142  ...                   0                   0   \n",
       "1            59        28  ...                   0                   0   \n",
       "2           212       196  ...                   0                   0   \n",
       "3           174       153  ...                   0                   0   \n",
       "4           103        64  ...                   0                   0   \n",
       "\n",
       "   ORIGIN_AIRPORT_UST  ORIGIN_AIRPORT_VLD  ORIGIN_AIRPORT_VPS  \\\n",
       "0                   0                   0                   0   \n",
       "1                   0                   0                   0   \n",
       "2                   0                   0                   0   \n",
       "3                   0                   0                   0   \n",
       "4                   0                   0                   0   \n",
       "\n",
       "   ORIGIN_AIRPORT_WRG  ORIGIN_AIRPORT_WYS  ORIGIN_AIRPORT_XNA  \\\n",
       "0                   0                   0                   0   \n",
       "1                   0                   0                   0   \n",
       "2                   0                   0                   0   \n",
       "3                   0                   0                   0   \n",
       "4                   0                   0                   0   \n",
       "\n",
       "   ORIGIN_AIRPORT_YAK  ORIGIN_AIRPORT_YUM  \n",
       "0                   0                   0  \n",
       "1                   0                   0  \n",
       "2                   0                   0  \n",
       "3                   0                   0  \n",
       "4                   0                   0  \n",
       "\n",
       "[5 rows x 656 columns]"
      ]
     },
     "execution_count": 53,
     "metadata": {},
     "output_type": "execute_result"
    }
   ],
   "source": [
    "flights_df_dummied.head()"
   ]
  },
  {
   "cell_type": "markdown",
   "metadata": {},
   "source": [
    "## Section 6.2: <a class=\"anchor\" id=\"6_2\"></a> Splitting the Dataset "
   ]
  },
  {
   "cell_type": "code",
   "execution_count": 54,
   "metadata": {},
   "outputs": [],
   "source": [
    "from zlib import crc32\n",
    "\n",
    "def test_set_check(identifier, test_ratio):\n",
    "    return crc32(np.int64(identifier)) & 0xffffffff < test_ratio * 2**32\n",
    "\n",
    "def split_train_test_by_id(data, test_ratio, id_column):\n",
    "    ids = data[id_column]\n",
    "    in_test_set = ids.apply(lambda id_: test_set_check(id_, test_ratio))\n",
    "    return data.loc[~in_test_set], data.loc[in_test_set]"
   ]
  },
  {
   "cell_type": "code",
   "execution_count": 55,
   "metadata": {},
   "outputs": [],
   "source": [
    "flights_df_new = flights_df_dummied.reset_index()\n",
    "flights_df_dummied_train, flights_df_dummied_test = split_train_test_by_id(flights_df_new, 0.2, \"index\")"
   ]
  },
  {
   "cell_type": "code",
   "execution_count": 56,
   "metadata": {},
   "outputs": [],
   "source": [
    "#drop from the training set the output values (arrival delay) and create a set with just those values\n",
    "X_train = flights_df_dummied_train.drop(\"ARRIVAL_DELAY\", axis=1)\n",
    "y_train = flights_df_dummied_train[\"ARRIVAL_DELAY\"].copy() "
   ]
  },
  {
   "cell_type": "code",
   "execution_count": 57,
   "metadata": {},
   "outputs": [],
   "source": [
    "#drop from the training set the output values (arrival delay) and create a set with just those values\n",
    "X_test = flights_df_dummied_test.drop(\"ARRIVAL_DELAY\", axis=1)\n",
    "y_test = flights_df_dummied_test[\"ARRIVAL_DELAY\"].copy() "
   ]
  },
  {
   "cell_type": "code",
   "execution_count": 58,
   "metadata": {
    "scrolled": true
   },
   "outputs": [
    {
     "name": "stdout",
     "output_type": "stream",
     "text": [
      "The train set contains 35892 observations, and the test set contains 8973 values.\n"
     ]
    }
   ],
   "source": [
    "print('The train set contains', X_train.shape[0], 'observations' + ', ' + 'and the test set contains', X_test.shape[0], 'values.')"
   ]
  },
  {
   "cell_type": "markdown",
   "metadata": {},
   "source": [
    "# Section 7: <a class=\"anchor\" id=\"section7\"></a> Machine Learning Models"
   ]
  },
  {
   "cell_type": "markdown",
   "metadata": {},
   "source": [
    "Since this is a prediction task we will be using regression models to try to predict the arrival delay of flights."
   ]
  },
  {
   "cell_type": "code",
   "execution_count": 59,
   "metadata": {},
   "outputs": [],
   "source": [
    "def display_scores(scores):\n",
    "    print(\"Scores:\", scores)\n",
    "    print(\"Mean:\", scores.mean())\n",
    "    print(\"Standard deviation:\", scores.std())"
   ]
  },
  {
   "cell_type": "markdown",
   "metadata": {},
   "source": [
    "Here we define a function that will give us the scores we need for the measurement of our models later."
   ]
  },
  {
   "cell_type": "markdown",
   "metadata": {},
   "source": [
    "## Section 7.1: <a class=\"anchor\" id=\"7_1\"></a> Random Forest Regressor"
   ]
  },
  {
   "cell_type": "markdown",
   "metadata": {},
   "source": [
    "The first model that will be trained in this analysis is a RandomForest. A RandomForest is used because the nature of the Random Forest that is nonlinear nature gives it a boost over linear algorithms, and since this is a regression task, it makes the RandomForest an excellent option to train the data for higher accuracy. "
   ]
  },
  {
   "cell_type": "code",
   "execution_count": 60,
   "metadata": {
    "scrolled": true
   },
   "outputs": [
    {
     "name": "stdout",
     "output_type": "stream",
     "text": [
      "2.761614218542108\n",
      "Scores: [13.42786237  6.22764744  6.64403218  6.30544447  6.79125041]\n",
      "Mean: 7.879247374784031\n",
      "Standard deviation: 2.7821308475656803\n",
      "Training_time: 754.6248371601105 seconds\n"
     ]
    }
   ],
   "source": [
    "start = time.time()\n",
    "\n",
    "forest_reg = RandomForestRegressor(random_state = 10)\n",
    "forest_reg.fit(X_train, y_train)\n",
    "\n",
    "forest_predictions = forest_reg.predict(X_train)\n",
    "forest_mse = mean_squared_error(y_train, forest_predictions)\n",
    "forest_rmse = np.sqrt(forest_mse)\n",
    "print(forest_rmse)\n",
    "\n",
    "scores = cross_val_score(forest_reg, X_train, y_train,\n",
    "                             scoring=\"neg_mean_squared_error\", cv=5)\n",
    "forest_rmse_scores = np.sqrt(-scores)\n",
    "display_scores(forest_rmse_scores)\n",
    "\n",
    "stop = time.time()\n",
    "forest_running_time = stop - start\n",
    "print(\"Training_time: {} seconds\".format(forest_running_time))"
   ]
  },
  {
   "cell_type": "code",
   "execution_count": 61,
   "metadata": {},
   "outputs": [
    {
     "name": "stdout",
     "output_type": "stream",
     "text": [
      "6.216283642559438\n"
     ]
    }
   ],
   "source": [
    "forest_reg = RandomForestRegressor(random_state = 10)\n",
    "forest_reg.fit(X_train, y_train)\n",
    "\n",
    "forest_predictions_test = forest_reg.predict(X_test)\n",
    "forest_mse_test = mean_squared_error(y_test, forest_predictions_test)\n",
    "forest_rmse_test = np.sqrt(forest_mse_test)\n",
    "print(forest_rmse_test)"
   ]
  },
  {
   "cell_type": "markdown",
   "metadata": {},
   "source": [
    "Considering the RandomForest results, we can see that the first MSE is telling us that the model is accurate by more or less ~2.7 minutes. On the other hand, cross-validation gives a different way of assessing the model performance which comes to ~7.9. By using cross-validation we get the generalizability of the model as the evaluation is not done on the data that is not used for training."
   ]
  },
  {
   "cell_type": "markdown",
   "metadata": {},
   "source": [
    "## Section 7.2: <a class=\"anchor\" id=\"7_2\"></a> Decision Tree Regressor"
   ]
  },
  {
   "cell_type": "markdown",
   "metadata": {},
   "source": [
    "Next, a DecisionTree will be used for the training of the model. The DecisionTree is used because it can lay out the problem in order for  all the possible outcomes to be challenged. It gives us the opportunity to fully analyze the potential consequences of a decision. Finally, it provides us with a framework to evaluate the values of outcomes and the possibilities that they might be achieved. "
   ]
  },
  {
   "cell_type": "code",
   "execution_count": 62,
   "metadata": {
    "scrolled": false
   },
   "outputs": [
    {
     "name": "stdout",
     "output_type": "stream",
     "text": [
      "0.0\n",
      "Scores: [16.67551235  9.01271331  9.31360528  9.27515068  9.88070386]\n",
      "Mean: 10.831537095324464\n",
      "Standard deviation: 2.9356670870752146\n",
      "None\n",
      "Training_time: 20.508955001831055 seconds\n"
     ]
    }
   ],
   "source": [
    "start = time.time()\n",
    "\n",
    "tree_reg = DecisionTreeRegressor(random_state=10)\n",
    "tree_reg.fit(X_train, y_train)\n",
    "\n",
    "tree_predictions = tree_reg.predict(X_train)\n",
    "tree_mse = mean_squared_error(y_train, tree_predictions)\n",
    "tree_rmse = np.sqrt(tree_mse)\n",
    "print(tree_rmse)\n",
    "\n",
    "scores = cross_val_score(tree_reg, X_train, y_train,\n",
    "                             scoring=\"neg_mean_squared_error\", cv=5)\n",
    "tree_rmse_scores = np.sqrt(-scores)\n",
    "print(display_scores(tree_rmse_scores))\n",
    "\n",
    "stop = time.time()\n",
    "tree_running_time = stop - start\n",
    "print(\"Training_time: {} seconds\".format(tree_running_time))"
   ]
  },
  {
   "cell_type": "markdown",
   "metadata": {},
   "source": [
    "Here we can see that the DecisionTree perfectly fits the train set as its accuracy its at 0.0 minutes out. This would be ideal, but the reality is that this model is simply overfitting the training set. It is later observed that when using cross-validation the score goes to ~10.8 minutes which is more logical."
   ]
  },
  {
   "cell_type": "markdown",
   "metadata": {},
   "source": [
    "## Section 7.3: <a class=\"anchor\" id=\"7_3\"></a> Gradient Boosting"
   ]
  },
  {
   "cell_type": "code",
   "execution_count": 63,
   "metadata": {
    "scrolled": false
   },
   "outputs": [
    {
     "name": "stdout",
     "output_type": "stream",
     "text": [
      "7.627839996831087\n",
      "Scores: [11.88970696  8.0410003   7.86913741  7.46911983  8.25780273]\n",
      "Mean: 8.705353449538746\n",
      "Standard deviation: 1.613028508531288\n",
      "Training_time: 185.89226984977722 seconds\n"
     ]
    }
   ],
   "source": [
    "start = time.time()\n",
    "\n",
    "gbr_reg = GradientBoostingRegressor()\n",
    "gbr_reg.fit(X_train, y_train)\n",
    "\n",
    "gbr_pred = gbr_reg.predict(X_train)\n",
    "gbr_mse = mean_squared_error(y_train, gbr_pred)\n",
    "gbr_rmse = np.sqrt(gbr_mse)\n",
    "print(gbr_rmse)\n",
    "\n",
    "scores = cross_val_score(gbr_reg, X_train, y_train,\n",
    "                             scoring=\"neg_mean_squared_error\", cv=5)\n",
    "tree_rmse_scores = np.sqrt(-scores)\n",
    "display_scores(tree_rmse_scores)\n",
    "\n",
    "stop = time.time()\n",
    "gbr_running_time = stop - start\n",
    "print(\"Training_time: {} seconds\".format(gbr_running_time))"
   ]
  },
  {
   "cell_type": "markdown",
   "metadata": {},
   "source": [
    "Here we can observe that GradientBoosting performs worse than the RandomForest model but better than the DecisionTree."
   ]
  },
  {
   "cell_type": "markdown",
   "metadata": {},
   "source": [
    "## Section 7.4: <a class=\"anchor\" id=\"7_4\"></a> Linear Regression"
   ]
  },
  {
   "cell_type": "code",
   "execution_count": 64,
   "metadata": {
    "scrolled": true
   },
   "outputs": [
    {
     "name": "stdout",
     "output_type": "stream",
     "text": [
      "1.5733830136257745e-12\n",
      "Scores: [2.91754914e-12 1.25384022e-12 1.05594197e-12 9.92237213e-13\n",
      " 1.76687616e-12]\n",
      "Mean: 1.597288941584382e-12\n",
      "Standard deviation: 7.139955160258693e-13\n",
      "Training_time: 24.172053337097168 seconds\n"
     ]
    }
   ],
   "source": [
    "start = time.time()\n",
    "\n",
    "linear_reg = LinearRegression()\n",
    "linear_reg.fit(X_train, y_train)\n",
    "\n",
    "linear_pred = linear_reg.predict(X_train)\n",
    "linear_mse = mean_squared_error(y_train, linear_pred)\n",
    "linear_rmse = np.sqrt(linear_mse)\n",
    "print(linear_rmse)\n",
    "\n",
    "scores = cross_val_score(linear_reg, X_train, y_train,\n",
    "                             scoring=\"neg_mean_squared_error\", cv=5)\n",
    "tree_rmse_scores = np.sqrt(-scores)\n",
    "display_scores(tree_rmse_scores)\n",
    "\n",
    "stop = time.time()\n",
    "linear_running_time = stop - start\n",
    "print(\"Training_time: {} seconds\".format(linear_running_time))"
   ]
  },
  {
   "cell_type": "markdown",
   "metadata": {},
   "source": [
    "LinearRegression gives us the best result, with the model being able to predict flights and missing only about ~1 minute. "
   ]
  },
  {
   "cell_type": "markdown",
   "metadata": {},
   "source": [
    "## Section 7.5: <a class=\"anchor\" id=\"7_5\"></a> Visualization of Models' Training Times"
   ]
  },
  {
   "cell_type": "code",
   "execution_count": 65,
   "metadata": {
    "scrolled": false
   },
   "outputs": [
    {
     "data": {
      "text/html": [
       "<div>\n",
       "<style scoped>\n",
       "    .dataframe tbody tr th:only-of-type {\n",
       "        vertical-align: middle;\n",
       "    }\n",
       "\n",
       "    .dataframe tbody tr th {\n",
       "        vertical-align: top;\n",
       "    }\n",
       "\n",
       "    .dataframe thead th {\n",
       "        text-align: right;\n",
       "    }\n",
       "</style>\n",
       "<table border=\"1\" class=\"dataframe\">\n",
       "  <thead>\n",
       "    <tr style=\"text-align: right;\">\n",
       "      <th></th>\n",
       "      <th>model</th>\n",
       "      <th>training_time_secs</th>\n",
       "    </tr>\n",
       "  </thead>\n",
       "  <tbody>\n",
       "    <tr>\n",
       "      <th>0</th>\n",
       "      <td>RandomForest</td>\n",
       "      <td>754.624837</td>\n",
       "    </tr>\n",
       "    <tr>\n",
       "      <th>2</th>\n",
       "      <td>GradientBoosting</td>\n",
       "      <td>185.892270</td>\n",
       "    </tr>\n",
       "    <tr>\n",
       "      <th>3</th>\n",
       "      <td>LinearRegression</td>\n",
       "      <td>24.172053</td>\n",
       "    </tr>\n",
       "    <tr>\n",
       "      <th>1</th>\n",
       "      <td>DecisionTree</td>\n",
       "      <td>20.508955</td>\n",
       "    </tr>\n",
       "  </tbody>\n",
       "</table>\n",
       "</div>"
      ],
      "text/plain": [
       "              model  training_time_secs\n",
       "0      RandomForest          754.624837\n",
       "2  GradientBoosting          185.892270\n",
       "3  LinearRegression           24.172053\n",
       "1      DecisionTree           20.508955"
      ]
     },
     "execution_count": 65,
     "metadata": {},
     "output_type": "execute_result"
    }
   ],
   "source": [
    "models_running_time = [['RandomForest', forest_running_time], \n",
    "                       ['DecisionTree', tree_running_time],\n",
    "                       ['GradientBoosting', gbr_running_time],\n",
    "                       ['LinearRegression', linear_running_time]]\n",
    "\n",
    "\n",
    "models_running_time_df = pd.DataFrame(models_running_time, columns = ['model', 'training_time_secs']).sort_values('training_time_secs', ascending = False)\n",
    "models_running_time_df"
   ]
  },
  {
   "cell_type": "code",
   "execution_count": 66,
   "metadata": {
    "scrolled": false
   },
   "outputs": [
    {
     "data": {
      "text/plain": [
       "Text(0.5, 1.0, 'Models Training Time')"
      ]
     },
     "execution_count": 66,
     "metadata": {},
     "output_type": "execute_result"
    },
    {
     "data": {
      "image/png": "[encoded data removed]",
      "text/plain": [
       "<Figure size 432x288 with 1 Axes>"
      ]
     },
     "metadata": {},
     "output_type": "display_data"
    }
   ],
   "source": [
    "ax = sns.barplot(x = \"model\", y = \"training_time_secs\", data = models_running_time_df,\n",
    "                order = models_running_time_df.model, color = \"lightsteelblue\")\n",
    "\n",
    "ax.set_xlabel(\"Model\")\n",
    "ax.set_ylabel(\"Time (seconds)\")\n",
    "ax.set_title(\"Models Training Time\")\n"
   ]
  },
  {
   "cell_type": "markdown",
   "metadata": {},
   "source": [
    "Based on the bar chart above, it can be observed that RandomForesst takes the longest time train the data as expected since the RandomForest uses a technique that combines predictions from different Machine Learning algorithms in order to create a more accurate prediction than a single model."
   ]
  },
  {
   "cell_type": "markdown",
   "metadata": {},
   "source": [
    "# Section 8: <a class=\"anchor\" id=\"section8\"></a> Fine-tuning Models and Combining Them into a Better Solution"
   ]
  },
  {
   "cell_type": "markdown",
   "metadata": {},
   "source": [
    "In this section of the analysis report, 2 models from the above section will be used to fine-tune and try to increase the accuracy (Square Root of Mean Squared Error in our case). The models selected will be RandomForest and LinearRegression since these are the best-performing models which will allow us to make even better models based on those initial results. "
   ]
  },
  {
   "cell_type": "markdown",
   "metadata": {},
   "source": [
    "## Section 8.1: <a class=\"anchor\" id=\"8_1\"></a> Fine-tuning of Random Forest"
   ]
  },
  {
   "cell_type": "code",
   "execution_count": 67,
   "metadata": {
    "scrolled": false
   },
   "outputs": [
    {
     "data": {
      "text/plain": [
       "{'bootstrap': True,\n",
       " 'ccp_alpha': 0.0,\n",
       " 'criterion': 'mse',\n",
       " 'max_depth': None,\n",
       " 'max_features': 'auto',\n",
       " 'max_leaf_nodes': None,\n",
       " 'max_samples': None,\n",
       " 'min_impurity_decrease': 0.0,\n",
       " 'min_impurity_split': None,\n",
       " 'min_samples_leaf': 1,\n",
       " 'min_samples_split': 2,\n",
       " 'min_weight_fraction_leaf': 0.0,\n",
       " 'n_estimators': 100,\n",
       " 'n_jobs': None,\n",
       " 'oob_score': False,\n",
       " 'random_state': 42,\n",
       " 'verbose': 0,\n",
       " 'warm_start': False}"
      ]
     },
     "execution_count": 67,
     "metadata": {},
     "output_type": "execute_result"
    }
   ],
   "source": [
    "RandomForestRegressor(random_state = 42).get_params()"
   ]
  },
  {
   "cell_type": "code",
   "execution_count": 68,
   "metadata": {},
   "outputs": [
    {
     "data": {
      "text/plain": [
       "GridSearchCV(cv=5, estimator=RandomForestRegressor(random_state=42),\n",
       "             param_grid=[{'bootstrap': [False], 'max_features': [8],\n",
       "                          'min_samples_leaf': [1], 'min_samples_split': [10],\n",
       "                          'n_estimators': [100]}],\n",
       "             return_train_score=True, scoring='neg_mean_squared_error')"
      ]
     },
     "execution_count": 68,
     "metadata": {},
     "output_type": "execute_result"
    }
   ],
   "source": [
    "parameters_grid = [\n",
    "   {'n_estimators': [100], \n",
    "    'max_features': [8],\n",
    "    'bootstrap': [False],\n",
    "    'min_samples_leaf': [1],\n",
    "    'min_samples_split': [10]\n",
    "   }]\n",
    "\n",
    "forest_reg = RandomForestRegressor(random_state = 42)\n",
    "\n",
    "grid_search = GridSearchCV(forest_reg, parameters_grid, cv=5,\n",
    "                          scoring='neg_mean_squared_error', return_train_score=True)\n",
    "grid_search.fit(X_train, y_train)"
   ]
  },
  {
   "cell_type": "code",
   "execution_count": 69,
   "metadata": {},
   "outputs": [
    {
     "data": {
      "text/plain": [
       "{'bootstrap': False,\n",
       " 'max_features': 8,\n",
       " 'min_samples_leaf': 1,\n",
       " 'min_samples_split': 10,\n",
       " 'n_estimators': 100}"
      ]
     },
     "execution_count": 69,
     "metadata": {},
     "output_type": "execute_result"
    }
   ],
   "source": [
    "grid_search.best_params_"
   ]
  },
  {
   "cell_type": "code",
   "execution_count": 70,
   "metadata": {},
   "outputs": [
    {
     "data": {
      "text/plain": [
       "RandomForestRegressor(bootstrap=False, max_features=8, min_samples_split=10,\n",
       "                      random_state=42)"
      ]
     },
     "execution_count": 70,
     "metadata": {},
     "output_type": "execute_result"
    }
   ],
   "source": [
    "grid_search.best_estimator_"
   ]
  },
  {
   "cell_type": "code",
   "execution_count": 71,
   "metadata": {},
   "outputs": [],
   "source": [
    "forest_reg_grid = RandomForestRegressor(**grid_search.best_params_)\n",
    "forest_reg_grid.fit(X_train, y_train)\n",
    "\n",
    "#Predict on test set\n",
    "forest_reg_grid_pred = forest_reg_grid.predict(X_test)"
   ]
  },
  {
   "cell_type": "code",
   "execution_count": 72,
   "metadata": {},
   "outputs": [
    {
     "name": "stdout",
     "output_type": "stream",
     "text": [
      "24.51955949198378 {'bootstrap': False, 'max_features': 8, 'min_samples_leaf': 1, 'min_samples_split': 10, 'n_estimators': 100}\n"
     ]
    }
   ],
   "source": [
    "cvres = grid_search.cv_results_\n",
    "for mean_score, params in zip(cvres[\"mean_test_score\"], cvres[\"params\"]):\n",
    "    print(np.sqrt(-mean_score), params)"
   ]
  },
  {
   "cell_type": "code",
   "execution_count": 73,
   "metadata": {},
   "outputs": [],
   "source": [
    "final_mse = mean_squared_error(y_test, forest_reg_grid_pred)\n",
    "final_rmse = np.sqrt(final_mse)"
   ]
  },
  {
   "cell_type": "code",
   "execution_count": 74,
   "metadata": {},
   "outputs": [
    {
     "data": {
      "text/plain": [
       "22.75790838618177"
      ]
     },
     "execution_count": 74,
     "metadata": {},
     "output_type": "execute_result"
    }
   ],
   "source": [
    "final_rmse"
   ]
  },
  {
   "cell_type": "markdown",
   "metadata": {},
   "source": [
    "Obviously, we can observe that the model performs a little worse on the test set after fine-tuning with cross validation. This might be due to the fact the model is overfitting on the training set. Over the analysis of this dataset, different combinations for hyper-parameters were tried to get the best result possible. Unfortunately, that was not possible and we only get the best results with the original models. In order to avoid overfitting in the RandomForest model, the most important task someone will need to perform is to enhance the tuning parameter that dominates the number of features that are chosen randomly to grow each tree from the bootstrapped data. This would be my next step but because of time constraints, that is not possible to be carried out. "
   ]
  },
  {
   "cell_type": "markdown",
   "metadata": {},
   "source": [
    "## Section 8.2: <a class=\"anchor\" id=\"8_2\"></a> Fine-tuning of Linear Regression"
   ]
  },
  {
   "cell_type": "code",
   "execution_count": 75,
   "metadata": {},
   "outputs": [],
   "source": [
    "linear_reg = LinearRegression()"
   ]
  },
  {
   "cell_type": "code",
   "execution_count": 76,
   "metadata": {
    "scrolled": true
   },
   "outputs": [
    {
     "data": {
      "text/plain": [
       "{'copy_X': True,\n",
       " 'fit_intercept': True,\n",
       " 'n_jobs': None,\n",
       " 'normalize': False,\n",
       " 'positive': False}"
      ]
     },
     "execution_count": 76,
     "metadata": {},
     "output_type": "execute_result"
    }
   ],
   "source": [
    "linear_reg.get_params()"
   ]
  },
  {
   "cell_type": "code",
   "execution_count": 77,
   "metadata": {},
   "outputs": [],
   "source": [
    "linear_params = [\n",
    "    {'copy_X': [True],\n",
    "     'fit_intercept': [True],\n",
    "     'normalize': [False],\n",
    "     'positive': [False],\n",
    "    }]"
   ]
  },
  {
   "cell_type": "code",
   "execution_count": 78,
   "metadata": {
    "scrolled": true
   },
   "outputs": [
    {
     "data": {
      "text/plain": [
       "GridSearchCV(cv=5, estimator=LinearRegression(),\n",
       "             param_grid=[{'copy_X': [True], 'fit_intercept': [True],\n",
       "                          'normalize': [False], 'positive': [False]}],\n",
       "             return_train_score=True, scoring='neg_mean_squared_error')"
      ]
     },
     "execution_count": 78,
     "metadata": {},
     "output_type": "execute_result"
    }
   ],
   "source": [
    "grid_search_reg = GridSearchCV(linear_reg, linear_params, cv=5,\n",
    "                          scoring='neg_mean_squared_error', return_train_score=True)\n",
    "grid_search_reg.fit(X_train, y_train)"
   ]
  },
  {
   "cell_type": "code",
   "execution_count": 79,
   "metadata": {},
   "outputs": [
    {
     "data": {
      "text/plain": [
       "{'copy_X': True, 'fit_intercept': True, 'normalize': False, 'positive': False}"
      ]
     },
     "execution_count": 79,
     "metadata": {},
     "output_type": "execute_result"
    }
   ],
   "source": [
    "grid_search_reg.best_params_"
   ]
  },
  {
   "cell_type": "code",
   "execution_count": 80,
   "metadata": {
    "scrolled": true
   },
   "outputs": [],
   "source": [
    "linear_reg_grid = linear_reg.set_params(**grid_search_reg.best_params_)\n",
    "linear_reg_grid.fit(X_train, y_train)\n",
    "linear_reg_grid_pred = linear_reg_grid.predict(X_test)"
   ]
  },
  {
   "cell_type": "code",
   "execution_count": 81,
   "metadata": {},
   "outputs": [
    {
     "name": "stdout",
     "output_type": "stream",
     "text": [
      "1.749606115619399e-12 {'copy_X': True, 'fit_intercept': True, 'normalize': False, 'positive': False}\n"
     ]
    }
   ],
   "source": [
    "cvres_reg = grid_search_reg.cv_results_\n",
    "for mean_score, params in zip(cvres_reg[\"mean_test_score\"], cvres_reg[\"params\"]):\n",
    "    print(np.sqrt(-mean_score), params)"
   ]
  },
  {
   "cell_type": "code",
   "execution_count": 82,
   "metadata": {},
   "outputs": [
    {
     "data": {
      "text/plain": [
       "1.5945968415505791e-12"
      ]
     },
     "execution_count": 82,
     "metadata": {},
     "output_type": "execute_result"
    }
   ],
   "source": [
    "final_mse_reg = mean_squared_error(y_test, linear_reg_grid_pred)\n",
    "final_rmse_reg = np.sqrt(final_mse_reg)\n",
    "final_rmse_reg"
   ]
  },
  {
   "cell_type": "markdown",
   "metadata": {},
   "source": [
    "In the regression model we can ovbserve that the original model is a model that fits the training set good but when we use the fine-tuned model it gives us an even better result than the first regression model. "
   ]
  },
  {
   "cell_type": "markdown",
   "metadata": {},
   "source": [
    "In the end, we can conclude that the LinearRegression is the model that fits our data the best thus the results we get."
   ]
  },
  {
   "cell_type": "markdown",
   "metadata": {},
   "source": [
    "# Section 9: <a class=\"anchor\" id=\"section9\"></a> Final Solution, Limitations and Summary Conclusions"
   ]
  },
  {
   "cell_type": "markdown",
   "metadata": {},
   "source": [
    "Moving on to the final section of this report, and the final solution of the model as well as limitations and summary conclusions."
   ]
  },
  {
   "cell_type": "markdown",
   "metadata": {},
   "source": [
    "## Section 9.1: <a class=\"anchor\" id=\"9_1\"></a> Final Solution"
   ]
  },
  {
   "cell_type": "code",
   "execution_count": 87,
   "metadata": {},
   "outputs": [
    {
     "name": "stdout",
     "output_type": "stream",
     "text": [
      "Minutes: -36.78 [Ensemble]\n"
     ]
    }
   ],
   "source": [
    "from sklearn.ensemble import VotingRegressor\n",
    "VotingRegressor_combination = VotingRegressor(\n",
    "    estimators = [('rf', forest_reg), ('dt', tree_reg), ('lr', linear_reg)],\n",
    "    n_jobs = -1)\n",
    "\n",
    "for regressor, label in zip([VotingRegressor_combination], ['Ensemble']):\n",
    "    scores = cross_val_score(regressor, X_train, y_train, scoring = 'neg_mean_squared_error', cv=5)\n",
    "    print(\"Minutes: %0.2f [%s]\" % (scores.mean(), label))"
   ]
  },
  {
   "cell_type": "markdown",
   "metadata": {},
   "source": [
    "The VotingRegressor model predicts the flights delays but is out ~37 minutes which is not great, considering that the LinearRegression model performs the best in this situation. "
   ]
  },
  {
   "cell_type": "markdown",
   "metadata": {},
   "source": [
    "## Section 9.2: <a class=\"anchor\" id=\"9_2\"></a> Limitations"
   ]
  },
  {
   "cell_type": "markdown",
   "metadata": {},
   "source": [
    "Evidently, the hyper-parameter tuning did not improve the 2 models selectes, RandomForest and LinearRegression. As discussed above, different solutions were tried and further data cleaning had to be completed to try and minimize overfitting and give us a better model. Unfortunately, a limitation of this project is time-constraints. If there was more time to fine-tune more solutions with better combinations, the models after hyper-parameter tuning would be able to perform even better. \n",
    "\n",
    "Also, the dataset only showed us flights for the year 2015. If we have more data from other years, it would give us the ability to control for seasonality and events such as pandemics which also disrupt travelling. Moreover, in order to avoid over-fitting in the RandomForest model, *k*-fold cross-validation would be used, and the tuning parameter that lessens test sample innacuracy would be chosen. In addition, if there was more time, a larger forest would be used which would boost the accuracy of the model. "
   ]
  },
  {
   "cell_type": "markdown",
   "metadata": {},
   "source": [
    "## Section 9.3: <a class=\"anchor\" id=\"9_3\"></a> Summary Conclusions"
   ]
  },
  {
   "cell_type": "markdown",
   "metadata": {},
   "source": [
    "To summarise everything that has been analyzed so far, the least busy airports are the ones that have the most delays and that might be due to the fact that there is not much organization and the people in charge find it hard to run it logistically. All in all, all the models are accurate from 1 to ~10 minutes. The models overall perfom fairly okay. Unfortunately, there was not enough time due to computational constraints to run more models and find the best hyper-parameters for the RandomForest. The LinearRegression is the best performing model, predicting flights accurately with ~1.5 minutes error. "
   ]
  },
  {
   "cell_type": "markdown",
   "metadata": {},
   "source": [
    "# Section 10: <a class=\"anchor\" id=\"section10\"></a> References"
   ]
  },
  {
   "cell_type": "markdown",
   "metadata": {},
   "source": [
    "Aurélien Géron (2019) *Hands-On Machine Learning with Scikit-Learn, Keras, and TensorFlow, 2nd Edition.* Beijing: O'Reilly.\n",
    "\n",
    "Maven Analytics (2022) *Airline Flight Delays* [ONLINE]. Available at: https://www.mavenanalytics.io/data-playground?page=5 [Accessed: 27 January, 2022].\n"
   ]
  }
 ],
 "metadata": {
  "kernelspec": {
   "display_name": "Python [conda env:Python3] *",
   "language": "python",
   "name": "conda-env-Python3-py"
  },
  "language_info": {
   "codemirror_mode": {
    "name": "ipython",
    "version": 3
   },
   "file_extension": ".py",
   "mimetype": "text/x-python",
   "name": "python",
   "nbconvert_exporter": "python",
   "pygments_lexer": "ipython3",
   "version": "3.8.2"
  }
 },
 "nbformat": 4,
 "nbformat_minor": 2
}
